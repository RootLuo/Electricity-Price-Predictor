{
 "cells": [
  {
   "cell_type": "code",
   "execution_count": 1,
   "metadata": {
    "collapsed": true
   },
   "outputs": [],
   "source": [
    "%matplotlib inline\n",
    "\n",
    "import numpy as np\n",
    "import pandas as pd\n",
    "import matplotlib.pyplot as plt\n",
    "from pylab import rcParams\n",
    "rcParams['figure.figsize'] = 20,10\n",
    "\n",
    "from sklearn import linear_model\n"
   ]
  },
  {
   "cell_type": "markdown",
   "metadata": {},
   "source": [
    "## Predictor Variables"
   ]
  },
  {
   "cell_type": "code",
   "execution_count": 2,
   "metadata": {
    "collapsed": true
   },
   "outputs": [],
   "source": [
    "# Commodity Prices\n",
    "dfCommodity = pd.read_csv('../data/commodityPrices.csv')\n",
    "dfCommodity['date'] = pd.to_datetime(dfCommodity['date'])\n",
    "dfCommodity = dfCommodity.set_index('date').sort_index()\n",
    "\n",
    "# Wind Generation\n",
    "dfWind = pd.read_csv('../data/MISOWindGeneration.csv')\n",
    "dfWind['date'] = pd.to_datetime(dfWind['date'])\n",
    "dfWind = dfWind.set_index('date').sort_index()\n",
    "\n",
    "# Demand\n",
    "dfLoad = pd.read_csv('../data/MISOActualLoad.csv')\n",
    "dfLoad['Market Day'] = pd.to_datetime(dfLoad['Market Day'])\n",
    "dfLoad = dfLoad.set_index('Market Day').sort_index()\n",
    "dfLoad.index.names = ['date']\n",
    "dfLoadActual = dfLoad[['Central ActualLoad (MWh)', 'East ActualLoad (MWh)', 'MISO ActualLoad (MWh)', 'Midwest ISO ActualLoad (MWh)', 'North ActualLoad (MWh)', 'South ActualLoad (MWh)', 'West ActualLoad (MWh)']]\n",
    "dfLoadActual = dfLoadActual.fillna(0)    # Handle NaN"
   ]
  },
  {
   "cell_type": "code",
   "execution_count": 3,
   "metadata": {
    "collapsed": false
   },
   "outputs": [
    {
     "data": {
      "text/html": [
       "<div>\n",
       "<table border=\"1\" class=\"dataframe\">\n",
       "  <thead>\n",
       "    <tr style=\"text-align: right;\">\n",
       "      <th></th>\n",
       "      <th>Central Appalachia</th>\n",
       "      <th>Northern Appalachia</th>\n",
       "      <th>Illinois Basin</th>\n",
       "      <th>Powder River Basin</th>\n",
       "      <th>Uinta Basin</th>\n",
       "      <th>NgPrice</th>\n",
       "      <th>windGenerationMWh</th>\n",
       "      <th>Central ActualLoad (MWh)</th>\n",
       "      <th>East ActualLoad (MWh)</th>\n",
       "      <th>MISO ActualLoad (MWh)</th>\n",
       "      <th>Midwest ISO ActualLoad (MWh)</th>\n",
       "      <th>North ActualLoad (MWh)</th>\n",
       "      <th>South ActualLoad (MWh)</th>\n",
       "      <th>West ActualLoad (MWh)</th>\n",
       "    </tr>\n",
       "    <tr>\n",
       "      <th>date</th>\n",
       "      <th></th>\n",
       "      <th></th>\n",
       "      <th></th>\n",
       "      <th></th>\n",
       "      <th></th>\n",
       "      <th></th>\n",
       "      <th></th>\n",
       "      <th></th>\n",
       "      <th></th>\n",
       "      <th></th>\n",
       "      <th></th>\n",
       "      <th></th>\n",
       "      <th></th>\n",
       "      <th></th>\n",
       "    </tr>\n",
       "  </thead>\n",
       "  <tbody>\n",
       "    <tr>\n",
       "      <th>2009-07-06</th>\n",
       "      <td>53.333333</td>\n",
       "      <td>51.166667</td>\n",
       "      <td>44</td>\n",
       "      <td>9</td>\n",
       "      <td>44.5</td>\n",
       "      <td>3.355000</td>\n",
       "      <td>325.927083</td>\n",
       "      <td>21654.299167</td>\n",
       "      <td>28127.989583</td>\n",
       "      <td>0</td>\n",
       "      <td>62493.192500</td>\n",
       "      <td>0</td>\n",
       "      <td>0</td>\n",
       "      <td>12710.903750</td>\n",
       "    </tr>\n",
       "    <tr>\n",
       "      <th>2009-07-07</th>\n",
       "      <td>53.500000</td>\n",
       "      <td>52.000000</td>\n",
       "      <td>44</td>\n",
       "      <td>9</td>\n",
       "      <td>44.5</td>\n",
       "      <td>3.300000</td>\n",
       "      <td>511.056250</td>\n",
       "      <td>22956.574167</td>\n",
       "      <td>27699.694167</td>\n",
       "      <td>0</td>\n",
       "      <td>63508.234167</td>\n",
       "      <td>0</td>\n",
       "      <td>0</td>\n",
       "      <td>12851.965833</td>\n",
       "    </tr>\n",
       "    <tr>\n",
       "      <th>2009-07-08</th>\n",
       "      <td>53.500000</td>\n",
       "      <td>52.000000</td>\n",
       "      <td>44</td>\n",
       "      <td>9</td>\n",
       "      <td>44.5</td>\n",
       "      <td>3.298571</td>\n",
       "      <td>728.637083</td>\n",
       "      <td>22402.212500</td>\n",
       "      <td>27335.640833</td>\n",
       "      <td>0</td>\n",
       "      <td>62295.661250</td>\n",
       "      <td>0</td>\n",
       "      <td>0</td>\n",
       "      <td>12557.807917</td>\n",
       "    </tr>\n",
       "    <tr>\n",
       "      <th>2009-07-09</th>\n",
       "      <td>53.500000</td>\n",
       "      <td>52.000000</td>\n",
       "      <td>44</td>\n",
       "      <td>9</td>\n",
       "      <td>44.5</td>\n",
       "      <td>3.297143</td>\n",
       "      <td>1716.773333</td>\n",
       "      <td>23165.527500</td>\n",
       "      <td>28635.972917</td>\n",
       "      <td>0</td>\n",
       "      <td>64392.903333</td>\n",
       "      <td>0</td>\n",
       "      <td>0</td>\n",
       "      <td>12591.402917</td>\n",
       "    </tr>\n",
       "    <tr>\n",
       "      <th>2009-07-10</th>\n",
       "      <td>53.500000</td>\n",
       "      <td>52.000000</td>\n",
       "      <td>44</td>\n",
       "      <td>9</td>\n",
       "      <td>44.5</td>\n",
       "      <td>3.295714</td>\n",
       "      <td>837.547917</td>\n",
       "      <td>23676.907917</td>\n",
       "      <td>29816.782083</td>\n",
       "      <td>0</td>\n",
       "      <td>66701.584583</td>\n",
       "      <td>0</td>\n",
       "      <td>0</td>\n",
       "      <td>13207.894583</td>\n",
       "    </tr>\n",
       "  </tbody>\n",
       "</table>\n",
       "</div>"
      ],
      "text/plain": [
       "            Central Appalachia  Northern Appalachia  Illinois Basin  \\\n",
       "date                                                                  \n",
       "2009-07-06           53.333333            51.166667              44   \n",
       "2009-07-07           53.500000            52.000000              44   \n",
       "2009-07-08           53.500000            52.000000              44   \n",
       "2009-07-09           53.500000            52.000000              44   \n",
       "2009-07-10           53.500000            52.000000              44   \n",
       "\n",
       "            Powder River Basin  Uinta Basin   NgPrice  windGenerationMWh  \\\n",
       "date                                                                       \n",
       "2009-07-06                   9         44.5  3.355000         325.927083   \n",
       "2009-07-07                   9         44.5  3.300000         511.056250   \n",
       "2009-07-08                   9         44.5  3.298571         728.637083   \n",
       "2009-07-09                   9         44.5  3.297143        1716.773333   \n",
       "2009-07-10                   9         44.5  3.295714         837.547917   \n",
       "\n",
       "            Central ActualLoad (MWh)  East ActualLoad (MWh)  \\\n",
       "date                                                          \n",
       "2009-07-06              21654.299167           28127.989583   \n",
       "2009-07-07              22956.574167           27699.694167   \n",
       "2009-07-08              22402.212500           27335.640833   \n",
       "2009-07-09              23165.527500           28635.972917   \n",
       "2009-07-10              23676.907917           29816.782083   \n",
       "\n",
       "            MISO ActualLoad (MWh)  Midwest ISO ActualLoad (MWh)  \\\n",
       "date                                                              \n",
       "2009-07-06                      0                  62493.192500   \n",
       "2009-07-07                      0                  63508.234167   \n",
       "2009-07-08                      0                  62295.661250   \n",
       "2009-07-09                      0                  64392.903333   \n",
       "2009-07-10                      0                  66701.584583   \n",
       "\n",
       "            North ActualLoad (MWh)  South ActualLoad (MWh)  \\\n",
       "date                                                         \n",
       "2009-07-06                       0                       0   \n",
       "2009-07-07                       0                       0   \n",
       "2009-07-08                       0                       0   \n",
       "2009-07-09                       0                       0   \n",
       "2009-07-10                       0                       0   \n",
       "\n",
       "            West ActualLoad (MWh)  \n",
       "date                               \n",
       "2009-07-06           12710.903750  \n",
       "2009-07-07           12851.965833  \n",
       "2009-07-08           12557.807917  \n",
       "2009-07-09           12591.402917  \n",
       "2009-07-10           13207.894583  "
      ]
     },
     "execution_count": 3,
     "metadata": {},
     "output_type": "execute_result"
    }
   ],
   "source": [
    "# Merge into a single DataFrame\n",
    "dfX = pd.merge(dfCommodity, dfWind, left_index=True, right_index=True)\n",
    "dfX = pd.merge(dfX, dfLoadActual, left_index=True, right_index=True)\n",
    "dfX.head()"
   ]
  },
  {
   "cell_type": "markdown",
   "metadata": {},
   "source": [
    "## Response Variable"
   ]
  },
  {
   "cell_type": "code",
   "execution_count": 4,
   "metadata": {
    "collapsed": true
   },
   "outputs": [],
   "source": [
    "dfMiso = pd.read_hdf('../data/LMP.h5')"
   ]
  },
  {
   "cell_type": "code",
   "execution_count": 14,
   "metadata": {
    "collapsed": false
   },
   "outputs": [
    {
     "data": {
      "text/html": [
       "<div>\n",
       "<table border=\"1\" class=\"dataframe\">\n",
       "  <thead>\n",
       "    <tr style=\"text-align: right;\">\n",
       "      <th></th>\n",
       "      <th></th>\n",
       "      <th>Type</th>\n",
       "      <th>meanPrice</th>\n",
       "    </tr>\n",
       "    <tr>\n",
       "      <th>Node</th>\n",
       "      <th>date</th>\n",
       "      <th></th>\n",
       "      <th></th>\n",
       "    </tr>\n",
       "  </thead>\n",
       "  <tbody>\n",
       "    <tr>\n",
       "      <th rowspan=\"5\" valign=\"top\">AEBN</th>\n",
       "      <th>20050616</th>\n",
       "      <td>Interface</td>\n",
       "      <td>-0.393333</td>\n",
       "    </tr>\n",
       "    <tr>\n",
       "      <th>20050617</th>\n",
       "      <td>Interface</td>\n",
       "      <td>28.973750</td>\n",
       "    </tr>\n",
       "    <tr>\n",
       "      <th>20050617</th>\n",
       "      <td>Interface</td>\n",
       "      <td>1.207917</td>\n",
       "    </tr>\n",
       "    <tr>\n",
       "      <th>20050617</th>\n",
       "      <td>Interface</td>\n",
       "      <td>-0.266250</td>\n",
       "    </tr>\n",
       "    <tr>\n",
       "      <th>20050618</th>\n",
       "      <td>Interface</td>\n",
       "      <td>17.643333</td>\n",
       "    </tr>\n",
       "  </tbody>\n",
       "</table>\n",
       "</div>"
      ],
      "text/plain": [
       "                    Type  meanPrice\n",
       "Node date                          \n",
       "AEBN 20050616  Interface  -0.393333\n",
       "     20050617  Interface  28.973750\n",
       "     20050617  Interface   1.207917\n",
       "     20050617  Interface  -0.266250\n",
       "     20050618  Interface  17.643333"
      ]
     },
     "execution_count": 14,
     "metadata": {},
     "output_type": "execute_result"
    }
   ],
   "source": [
    "dfMiso[5:].head()"
   ]
  },
  {
   "cell_type": "markdown",
   "metadata": {},
   "source": [
    "## Data Prep before Regression"
   ]
  },
  {
   "cell_type": "code",
   "execution_count": 26,
   "metadata": {
    "collapsed": false
   },
   "outputs": [
    {
     "name": "stdout",
     "output_type": "stream",
     "text": [
      "CPU times: user 24.4 s, sys: 6.51 s, total: 30.9 s\n",
      "Wall time: 33.4 s\n"
     ]
    }
   ],
   "source": [
    "%%time\n",
    "\n",
    "# Collapse MultiIndex of dfY(to prep for merge with dfX)\n",
    "dfY = dfMiso.dropna()                                   # Drop rows with NA\n",
    "dfY = dfY.reset_index()                                 # collapse MultiIndex\n",
    "dfY = dfY[['date', 'meanPrice']].set_index('date')\n",
    "dfY.index = pd.to_datetime(dfY.index, format='%Y%m%d')  # expensive operation (parsing 20,000,000 dates)"
   ]
  },
  {
   "cell_type": "code",
   "execution_count": 28,
   "metadata": {
    "collapsed": false
   },
   "outputs": [
    {
     "data": {
      "text/html": [
       "<div>\n",
       "<table border=\"1\" class=\"dataframe\">\n",
       "  <thead>\n",
       "    <tr style=\"text-align: right;\">\n",
       "      <th></th>\n",
       "      <th>meanPrice</th>\n",
       "    </tr>\n",
       "    <tr>\n",
       "      <th>date</th>\n",
       "      <th></th>\n",
       "    </tr>\n",
       "  </thead>\n",
       "  <tbody>\n",
       "    <tr>\n",
       "      <th>2005-06-16</th>\n",
       "      <td>29.463750</td>\n",
       "    </tr>\n",
       "    <tr>\n",
       "      <th>2005-06-16</th>\n",
       "      <td>-0.947083</td>\n",
       "    </tr>\n",
       "    <tr>\n",
       "      <th>2005-06-16</th>\n",
       "      <td>-0.393333</td>\n",
       "    </tr>\n",
       "    <tr>\n",
       "      <th>2005-06-17</th>\n",
       "      <td>28.973750</td>\n",
       "    </tr>\n",
       "    <tr>\n",
       "      <th>2005-06-17</th>\n",
       "      <td>1.207917</td>\n",
       "    </tr>\n",
       "  </tbody>\n",
       "</table>\n",
       "</div>"
      ],
      "text/plain": [
       "            meanPrice\n",
       "date                 \n",
       "2005-06-16  29.463750\n",
       "2005-06-16  -0.947083\n",
       "2005-06-16  -0.393333\n",
       "2005-06-17  28.973750\n",
       "2005-06-17   1.207917"
      ]
     },
     "execution_count": 28,
     "metadata": {},
     "output_type": "execute_result"
    }
   ],
   "source": [
    "dfY.head()"
   ]
  },
  {
   "cell_type": "code",
   "execution_count": 33,
   "metadata": {
    "collapsed": false
   },
   "outputs": [],
   "source": [
    "# Inner Join on 20,000,000 rows! (3.45 secs)\n",
    "df = pd.merge(dfY, dfX, left_index=True, right_index=True, how='inner')\n",
    "df = df[:'2013-09-01']\n",
    "\n",
    "# Plot (Do not plot this! Takes too long. Looks the same as the regular plots)\n",
    "# df.plot()"
   ]
  },
  {
   "cell_type": "markdown",
   "metadata": {},
   "source": [
    "## Random Forest Regression (All Nodes)\n",
    "Get a feel of training time for 20 million data points"
   ]
  },
  {
   "cell_type": "code",
   "execution_count": 71,
   "metadata": {
    "collapsed": false
   },
   "outputs": [
    {
     "name": "stdout",
     "output_type": "stream",
     "text": [
      "Best Params:  {'max_features': 'log2', 'min_samples_split': 2, 'n_estimators': 10, 'max_depth': 3}\n",
      "Best Score:  0.00893222494516\n",
      "Grid Scores:  [mean: -0.00488, std: 0.01117, params: {'max_features': 'auto', 'min_samples_split': 2, 'n_estimators': 5, 'max_depth': None}, mean: -0.00530, std: 0.01085, params: {'max_features': 'auto', 'min_samples_split': 2, 'n_estimators': 10, 'max_depth': None}, mean: -0.00700, std: 0.01486, params: {'max_features': 'auto', 'min_samples_split': 2, 'n_estimators': 20, 'max_depth': None}, mean: -0.00872, std: 0.01326, params: {'max_features': 'auto', 'min_samples_split': 3, 'n_estimators': 5, 'max_depth': None}, mean: -0.00791, std: 0.01273, params: {'max_features': 'auto', 'min_samples_split': 3, 'n_estimators': 10, 'max_depth': None}, mean: -0.00598, std: 0.01216, params: {'max_features': 'auto', 'min_samples_split': 3, 'n_estimators': 20, 'max_depth': None}, mean: 0.00482, std: 0.00642, params: {'max_features': 'sqrt', 'min_samples_split': 2, 'n_estimators': 5, 'max_depth': None}, mean: 0.00782, std: 0.00524, params: {'max_features': 'sqrt', 'min_samples_split': 2, 'n_estimators': 10, 'max_depth': None}, mean: 0.00772, std: 0.00664, params: {'max_features': 'sqrt', 'min_samples_split': 2, 'n_estimators': 20, 'max_depth': None}, mean: 0.00262, std: 0.00690, params: {'max_features': 'sqrt', 'min_samples_split': 3, 'n_estimators': 5, 'max_depth': None}, mean: 0.00592, std: 0.00541, params: {'max_features': 'sqrt', 'min_samples_split': 3, 'n_estimators': 10, 'max_depth': None}, mean: 0.00724, std: 0.00585, params: {'max_features': 'sqrt', 'min_samples_split': 3, 'n_estimators': 20, 'max_depth': None}, mean: 0.00565, std: 0.00548, params: {'max_features': 'log2', 'min_samples_split': 2, 'n_estimators': 5, 'max_depth': None}, mean: 0.00596, std: 0.00653, params: {'max_features': 'log2', 'min_samples_split': 2, 'n_estimators': 10, 'max_depth': None}, mean: 0.00608, std: 0.00584, params: {'max_features': 'log2', 'min_samples_split': 2, 'n_estimators': 20, 'max_depth': None}, mean: 0.00024, std: 0.00841, params: {'max_features': 'log2', 'min_samples_split': 3, 'n_estimators': 5, 'max_depth': None}, mean: -0.00069, std: 0.01354, params: {'max_features': 'log2', 'min_samples_split': 3, 'n_estimators': 10, 'max_depth': None}, mean: 0.00670, std: 0.00463, params: {'max_features': 'log2', 'min_samples_split': 3, 'n_estimators': 20, 'max_depth': None}, mean: 0.00560, std: 0.00383, params: {'max_features': 'auto', 'min_samples_split': 2, 'n_estimators': 5, 'max_depth': 1}, mean: 0.00546, std: 0.00382, params: {'max_features': 'auto', 'min_samples_split': 2, 'n_estimators': 10, 'max_depth': 1}, mean: 0.00550, std: 0.00383, params: {'max_features': 'auto', 'min_samples_split': 2, 'n_estimators': 20, 'max_depth': 1}, mean: 0.00549, std: 0.00385, params: {'max_features': 'auto', 'min_samples_split': 3, 'n_estimators': 5, 'max_depth': 1}, mean: 0.00551, std: 0.00384, params: {'max_features': 'auto', 'min_samples_split': 3, 'n_estimators': 10, 'max_depth': 1}, mean: 0.00549, std: 0.00384, params: {'max_features': 'auto', 'min_samples_split': 3, 'n_estimators': 20, 'max_depth': 1}, mean: 0.00449, std: 0.00412, params: {'max_features': 'sqrt', 'min_samples_split': 2, 'n_estimators': 5, 'max_depth': 1}, mean: 0.00309, std: 0.00340, params: {'max_features': 'sqrt', 'min_samples_split': 2, 'n_estimators': 10, 'max_depth': 1}, mean: 0.00459, std: 0.00396, params: {'max_features': 'sqrt', 'min_samples_split': 2, 'n_estimators': 20, 'max_depth': 1}, mean: 0.00469, std: 0.00518, params: {'max_features': 'sqrt', 'min_samples_split': 3, 'n_estimators': 5, 'max_depth': 1}, mean: 0.00587, std: 0.00345, params: {'max_features': 'sqrt', 'min_samples_split': 3, 'n_estimators': 10, 'max_depth': 1}, mean: 0.00519, std: 0.00310, params: {'max_features': 'sqrt', 'min_samples_split': 3, 'n_estimators': 20, 'max_depth': 1}, mean: 0.00448, std: 0.00248, params: {'max_features': 'log2', 'min_samples_split': 2, 'n_estimators': 5, 'max_depth': 1}, mean: 0.00409, std: 0.00310, params: {'max_features': 'log2', 'min_samples_split': 2, 'n_estimators': 10, 'max_depth': 1}, mean: 0.00521, std: 0.00320, params: {'max_features': 'log2', 'min_samples_split': 2, 'n_estimators': 20, 'max_depth': 1}, mean: 0.00549, std: 0.00369, params: {'max_features': 'log2', 'min_samples_split': 3, 'n_estimators': 5, 'max_depth': 1}, mean: 0.00526, std: 0.00351, params: {'max_features': 'log2', 'min_samples_split': 3, 'n_estimators': 10, 'max_depth': 1}, mean: 0.00544, std: 0.00330, params: {'max_features': 'log2', 'min_samples_split': 3, 'n_estimators': 20, 'max_depth': 1}, mean: 0.00516, std: 0.00546, params: {'max_features': 'auto', 'min_samples_split': 2, 'n_estimators': 5, 'max_depth': 2}, mean: 0.00542, std: 0.00527, params: {'max_features': 'auto', 'min_samples_split': 2, 'n_estimators': 10, 'max_depth': 2}, mean: 0.00501, std: 0.00534, params: {'max_features': 'auto', 'min_samples_split': 2, 'n_estimators': 20, 'max_depth': 2}, mean: 0.00521, std: 0.00519, params: {'max_features': 'auto', 'min_samples_split': 3, 'n_estimators': 5, 'max_depth': 2}, mean: 0.00505, std: 0.00534, params: {'max_features': 'auto', 'min_samples_split': 3, 'n_estimators': 10, 'max_depth': 2}, mean: 0.00502, std: 0.00535, params: {'max_features': 'auto', 'min_samples_split': 3, 'n_estimators': 20, 'max_depth': 2}, mean: 0.00719, std: 0.00433, params: {'max_features': 'sqrt', 'min_samples_split': 2, 'n_estimators': 5, 'max_depth': 2}, mean: 0.00646, std: 0.00327, params: {'max_features': 'sqrt', 'min_samples_split': 2, 'n_estimators': 10, 'max_depth': 2}, mean: 0.00670, std: 0.00349, params: {'max_features': 'sqrt', 'min_samples_split': 2, 'n_estimators': 20, 'max_depth': 2}, mean: 0.00632, std: 0.00325, params: {'max_features': 'sqrt', 'min_samples_split': 3, 'n_estimators': 5, 'max_depth': 2}, mean: 0.00812, std: 0.00423, params: {'max_features': 'sqrt', 'min_samples_split': 3, 'n_estimators': 10, 'max_depth': 2}, mean: 0.00676, std: 0.00429, params: {'max_features': 'sqrt', 'min_samples_split': 3, 'n_estimators': 20, 'max_depth': 2}, mean: 0.00727, std: 0.00405, params: {'max_features': 'log2', 'min_samples_split': 2, 'n_estimators': 5, 'max_depth': 2}, mean: 0.00669, std: 0.00501, params: {'max_features': 'log2', 'min_samples_split': 2, 'n_estimators': 10, 'max_depth': 2}, mean: 0.00687, std: 0.00430, params: {'max_features': 'log2', 'min_samples_split': 2, 'n_estimators': 20, 'max_depth': 2}, mean: 0.00706, std: 0.00414, params: {'max_features': 'log2', 'min_samples_split': 3, 'n_estimators': 5, 'max_depth': 2}, mean: 0.00686, std: 0.00429, params: {'max_features': 'log2', 'min_samples_split': 3, 'n_estimators': 10, 'max_depth': 2}, mean: 0.00707, std: 0.00435, params: {'max_features': 'log2', 'min_samples_split': 3, 'n_estimators': 20, 'max_depth': 2}, mean: 0.00686, std: 0.00687, params: {'max_features': 'auto', 'min_samples_split': 2, 'n_estimators': 5, 'max_depth': 3}, mean: 0.00719, std: 0.00642, params: {'max_features': 'auto', 'min_samples_split': 2, 'n_estimators': 10, 'max_depth': 3}, mean: 0.00708, std: 0.00666, params: {'max_features': 'auto', 'min_samples_split': 2, 'n_estimators': 20, 'max_depth': 3}, mean: 0.00707, std: 0.00644, params: {'max_features': 'auto', 'min_samples_split': 3, 'n_estimators': 5, 'max_depth': 3}, mean: 0.00757, std: 0.00607, params: {'max_features': 'auto', 'min_samples_split': 3, 'n_estimators': 10, 'max_depth': 3}, mean: 0.00718, std: 0.00636, params: {'max_features': 'auto', 'min_samples_split': 3, 'n_estimators': 20, 'max_depth': 3}, mean: 0.00532, std: 0.00412, params: {'max_features': 'sqrt', 'min_samples_split': 2, 'n_estimators': 5, 'max_depth': 3}, mean: 0.00782, std: 0.00367, params: {'max_features': 'sqrt', 'min_samples_split': 2, 'n_estimators': 10, 'max_depth': 3}, mean: 0.00817, std: 0.00511, params: {'max_features': 'sqrt', 'min_samples_split': 2, 'n_estimators': 20, 'max_depth': 3}, mean: 0.00626, std: 0.00578, params: {'max_features': 'sqrt', 'min_samples_split': 3, 'n_estimators': 5, 'max_depth': 3}, mean: 0.00844, std: 0.00447, params: {'max_features': 'sqrt', 'min_samples_split': 3, 'n_estimators': 10, 'max_depth': 3}, mean: 0.00785, std: 0.00487, params: {'max_features': 'sqrt', 'min_samples_split': 3, 'n_estimators': 20, 'max_depth': 3}, mean: 0.00585, std: 0.00494, params: {'max_features': 'log2', 'min_samples_split': 2, 'n_estimators': 5, 'max_depth': 3}, mean: 0.00893, std: 0.00431, params: {'max_features': 'log2', 'min_samples_split': 2, 'n_estimators': 10, 'max_depth': 3}, mean: 0.00791, std: 0.00452, params: {'max_features': 'log2', 'min_samples_split': 2, 'n_estimators': 20, 'max_depth': 3}, mean: 0.00511, std: 0.00560, params: {'max_features': 'log2', 'min_samples_split': 3, 'n_estimators': 5, 'max_depth': 3}, mean: 0.00810, std: 0.00467, params: {'max_features': 'log2', 'min_samples_split': 3, 'n_estimators': 10, 'max_depth': 3}, mean: 0.00726, std: 0.00473, params: {'max_features': 'log2', 'min_samples_split': 3, 'n_estimators': 20, 'max_depth': 3}]\n",
      "\n",
      "CPU times: user 17min 52s, sys: 9min 15s, total: 27min 7s\n",
      "Wall time: 1h 55min 47s\n"
     ]
    }
   ],
   "source": [
    "%%time\n",
    "\n",
    "from sklearn.cross_validation import train_test_split\n",
    "from sklearn import grid_search\n",
    "\n",
    "# Split into training/testing sets\n",
    "X_train, X_test, y_train, y_test = train_test_split(df.drop('meanPrice', axis=1), df['meanPrice'], \n",
    "                                                    test_size=0.2, random_state=0)\n",
    "\n",
    "# Gridsearch\n",
    "params = {\n",
    "        'n_estimators': [5,10,20],\n",
    "        'max_features': ['auto', 'sqrt', 'log2'],\n",
    "        'max_depth': [None,1,2,3],\n",
    "        'min_samples_split': [2,3]\n",
    "}\n",
    "clf = grid_search.GridSearchCV(RandomForestRegressor(n_jobs=3), params, cv=5, n_jobs=3)\n",
    "fit = clf.fit(df.drop('meanPrice', axis=1), df['meanPrice'])\n",
    "\n",
    "print 'Best Params: ', fit.best_params_\n",
    "print 'Best Score: ', fit.best_score_\n",
    "print 'Grid Scores: ', fit.grid_scores_\n",
    "print"
   ]
  },
  {
   "cell_type": "code",
   "execution_count": 72,
   "metadata": {
    "collapsed": false
   },
   "outputs": [
    {
     "name": "stdout",
     "output_type": "stream",
     "text": [
      "R2 Score:  0.0146620784467\n",
      "Explained Variance Score:  0.0146622420278\n",
      "MAE:  13.5621520947\n",
      "MSE:  270.330379536\n",
      "Median AE:  10.8706173145\n"
     ]
    },
    {
     "name": "stderr",
     "output_type": "stream",
     "text": [
      "/Users/x/anaconda/envs/data/lib/python2.7/site-packages/ipykernel/__main__.py:16: FutureWarning: sort(columns=....) is deprecated, use sort_values(by=.....)\n"
     ]
    },
    {
     "data": {
      "text/html": [
       "<div>\n",
       "<table border=\"1\" class=\"dataframe\">\n",
       "  <thead>\n",
       "    <tr style=\"text-align: right;\">\n",
       "      <th></th>\n",
       "      <th>Predictors</th>\n",
       "      <th>Feature Importances</th>\n",
       "    </tr>\n",
       "  </thead>\n",
       "  <tbody>\n",
       "    <tr>\n",
       "      <th>7</th>\n",
       "      <td>Central ActualLoad (MWh)</td>\n",
       "      <td>0.328340</td>\n",
       "    </tr>\n",
       "    <tr>\n",
       "      <th>10</th>\n",
       "      <td>Midwest ISO ActualLoad (MWh)</td>\n",
       "      <td>0.243047</td>\n",
       "    </tr>\n",
       "    <tr>\n",
       "      <th>13</th>\n",
       "      <td>West ActualLoad (MWh)</td>\n",
       "      <td>0.113083</td>\n",
       "    </tr>\n",
       "    <tr>\n",
       "      <th>8</th>\n",
       "      <td>East ActualLoad (MWh)</td>\n",
       "      <td>0.106345</td>\n",
       "    </tr>\n",
       "    <tr>\n",
       "      <th>5</th>\n",
       "      <td>NgPrice</td>\n",
       "      <td>0.054134</td>\n",
       "    </tr>\n",
       "    <tr>\n",
       "      <th>6</th>\n",
       "      <td>windGenerationMWh</td>\n",
       "      <td>0.052023</td>\n",
       "    </tr>\n",
       "    <tr>\n",
       "      <th>2</th>\n",
       "      <td>Illinois Basin</td>\n",
       "      <td>0.031710</td>\n",
       "    </tr>\n",
       "    <tr>\n",
       "      <th>0</th>\n",
       "      <td>Central Appalachia</td>\n",
       "      <td>0.025772</td>\n",
       "    </tr>\n",
       "    <tr>\n",
       "      <th>3</th>\n",
       "      <td>Powder River Basin</td>\n",
       "      <td>0.019061</td>\n",
       "    </tr>\n",
       "    <tr>\n",
       "      <th>4</th>\n",
       "      <td>Uinta Basin</td>\n",
       "      <td>0.013347</td>\n",
       "    </tr>\n",
       "    <tr>\n",
       "      <th>1</th>\n",
       "      <td>Northern Appalachia</td>\n",
       "      <td>0.013138</td>\n",
       "    </tr>\n",
       "    <tr>\n",
       "      <th>9</th>\n",
       "      <td>MISO ActualLoad (MWh)</td>\n",
       "      <td>0.000000</td>\n",
       "    </tr>\n",
       "    <tr>\n",
       "      <th>11</th>\n",
       "      <td>North ActualLoad (MWh)</td>\n",
       "      <td>0.000000</td>\n",
       "    </tr>\n",
       "    <tr>\n",
       "      <th>12</th>\n",
       "      <td>South ActualLoad (MWh)</td>\n",
       "      <td>0.000000</td>\n",
       "    </tr>\n",
       "  </tbody>\n",
       "</table>\n",
       "</div>"
      ],
      "text/plain": [
       "                      Predictors  Feature Importances\n",
       "7       Central ActualLoad (MWh)             0.328340\n",
       "10  Midwest ISO ActualLoad (MWh)             0.243047\n",
       "13         West ActualLoad (MWh)             0.113083\n",
       "8          East ActualLoad (MWh)             0.106345\n",
       "5                        NgPrice             0.054134\n",
       "6              windGenerationMWh             0.052023\n",
       "2                 Illinois Basin             0.031710\n",
       "0             Central Appalachia             0.025772\n",
       "3             Powder River Basin             0.019061\n",
       "4                    Uinta Basin             0.013347\n",
       "1            Northern Appalachia             0.013138\n",
       "9          MISO ActualLoad (MWh)             0.000000\n",
       "11        North ActualLoad (MWh)             0.000000\n",
       "12        South ActualLoad (MWh)             0.000000"
      ]
     },
     "execution_count": 72,
     "metadata": {},
     "output_type": "execute_result"
    }
   ],
   "source": [
    "from sklearn import metrics\n",
    "\n",
    "# Best Estimator\n",
    "rf = fit.best_estimator_\n",
    "\n",
    "# Metrics\n",
    "preds = rf.predict(X_test)\n",
    "print 'R2 Score: ', metrics.r2_score(y_test.values, preds)\n",
    "print 'Explained Variance Score: ', metrics.explained_variance_score(y_test.values, preds)\n",
    "print 'MAE: ', metrics.mean_absolute_error(y_test.values, preds)\n",
    "print 'MSE: ', metrics.mean_squared_error(y_test.values, preds)\n",
    "print 'Median AE: ', metrics.median_absolute_error(y_test.values, preds)\n",
    "\n",
    "# Feature Importances\n",
    "lcols = X_train.columns\n",
    "pd.DataFrame(zip(lcols, rf.feature_importances_), columns=['Predictors', 'Feature Importances']).sort('Feature Importances', ascending=False)"
   ]
  },
  {
   "cell_type": "code",
   "execution_count": null,
   "metadata": {
    "collapsed": true
   },
   "outputs": [],
   "source": []
  },
  {
   "cell_type": "code",
   "execution_count": null,
   "metadata": {
    "collapsed": true
   },
   "outputs": [],
   "source": []
  },
  {
   "cell_type": "code",
   "execution_count": null,
   "metadata": {
    "collapsed": true
   },
   "outputs": [],
   "source": []
  },
  {
   "cell_type": "code",
   "execution_count": null,
   "metadata": {
    "collapsed": true
   },
   "outputs": [],
   "source": []
  },
  {
   "cell_type": "code",
   "execution_count": null,
   "metadata": {
    "collapsed": true
   },
   "outputs": [],
   "source": []
  },
  {
   "cell_type": "code",
   "execution_count": 45,
   "metadata": {
    "collapsed": false
   },
   "outputs": [
    {
     "name": "stdout",
     "output_type": "stream",
     "text": [
      "Best Params:  {'n_estimators': 10}\n",
      "Best Score:  -0.00526127482102\n",
      "Grid Scores:  [mean: -0.00526, std: 0.00969, params: {'n_estimators': 10}, mean: -0.00611, std: 0.01253, params: {'n_estimators': 30}, mean: -0.00647, std: 0.01391, params: {'n_estimators': 50}]\n",
      "\n",
      "CPU times: user 4min 54s, sys: 26.9 s, total: 5min 21s\n",
      "Wall time: 50min 18s\n"
     ]
    }
   ],
   "source": [
    "%%time\n",
    "\n",
    "from sklearn.cross_validation import train_test_split\n",
    "from sklearn import grid_search\n",
    "\n",
    "# Split into training/testing sets\n",
    "X_train, X_test, y_train, y_test = train_test_split(df.drop('meanPrice', axis=1), df['meanPrice'], \n",
    "                                                    test_size=0.2, random_state=0)\n",
    "\n",
    "# Gridsearch\n",
    "params = {\n",
    "    'n_estimators': [10,30,50]\n",
    "}\n",
    "clf = grid_search.GridSearchCV(RandomForestRegressor(n_jobs=3), params, cv=5, n_jobs=3)\n",
    "fit = clf.fit(df.drop('meanPrice', axis=1), df['meanPrice'])\n",
    "\n",
    "print 'Best Params: ', fit.best_params_\n",
    "print 'Best Score: ', fit.best_score_\n",
    "print 'Grid Scores: ', fit.grid_scores_\n",
    "print"
   ]
  },
  {
   "cell_type": "code",
   "execution_count": 70,
   "metadata": {
    "collapsed": false
   },
   "outputs": [
    {
     "name": "stdout",
     "output_type": "stream",
     "text": [
      "R2 Score:  0.0319441113884\n",
      "Explained Variance Score:  0.031944596342\n",
      "MAE:  13.5401566805\n",
      "MSE:  265.589002571\n",
      "Median AE:  11.3509943695\n"
     ]
    },
    {
     "name": "stderr",
     "output_type": "stream",
     "text": [
      "/Users/x/anaconda/envs/data/lib/python2.7/site-packages/ipykernel/__main__.py:12: FutureWarning: sort(columns=....) is deprecated, use sort_values(by=.....)\n"
     ]
    },
    {
     "data": {
      "text/html": [
       "<div>\n",
       "<table border=\"1\" class=\"dataframe\">\n",
       "  <thead>\n",
       "    <tr style=\"text-align: right;\">\n",
       "      <th></th>\n",
       "      <th>Predictors</th>\n",
       "      <th>Feature Importances</th>\n",
       "    </tr>\n",
       "  </thead>\n",
       "  <tbody>\n",
       "    <tr>\n",
       "      <th>10</th>\n",
       "      <td>Midwest ISO ActualLoad (MWh)</td>\n",
       "      <td>0.344409</td>\n",
       "    </tr>\n",
       "    <tr>\n",
       "      <th>13</th>\n",
       "      <td>West ActualLoad (MWh)</td>\n",
       "      <td>0.143422</td>\n",
       "    </tr>\n",
       "    <tr>\n",
       "      <th>6</th>\n",
       "      <td>windGenerationMWh</td>\n",
       "      <td>0.137001</td>\n",
       "    </tr>\n",
       "    <tr>\n",
       "      <th>5</th>\n",
       "      <td>NgPrice</td>\n",
       "      <td>0.105353</td>\n",
       "    </tr>\n",
       "    <tr>\n",
       "      <th>0</th>\n",
       "      <td>Central Appalachia</td>\n",
       "      <td>0.075182</td>\n",
       "    </tr>\n",
       "    <tr>\n",
       "      <th>7</th>\n",
       "      <td>Central ActualLoad (MWh)</td>\n",
       "      <td>0.062301</td>\n",
       "    </tr>\n",
       "    <tr>\n",
       "      <th>8</th>\n",
       "      <td>East ActualLoad (MWh)</td>\n",
       "      <td>0.039073</td>\n",
       "    </tr>\n",
       "    <tr>\n",
       "      <th>3</th>\n",
       "      <td>Powder River Basin</td>\n",
       "      <td>0.032448</td>\n",
       "    </tr>\n",
       "    <tr>\n",
       "      <th>4</th>\n",
       "      <td>Uinta Basin</td>\n",
       "      <td>0.022525</td>\n",
       "    </tr>\n",
       "    <tr>\n",
       "      <th>1</th>\n",
       "      <td>Northern Appalachia</td>\n",
       "      <td>0.022191</td>\n",
       "    </tr>\n",
       "    <tr>\n",
       "      <th>2</th>\n",
       "      <td>Illinois Basin</td>\n",
       "      <td>0.016095</td>\n",
       "    </tr>\n",
       "    <tr>\n",
       "      <th>9</th>\n",
       "      <td>MISO ActualLoad (MWh)</td>\n",
       "      <td>0.000000</td>\n",
       "    </tr>\n",
       "    <tr>\n",
       "      <th>11</th>\n",
       "      <td>North ActualLoad (MWh)</td>\n",
       "      <td>0.000000</td>\n",
       "    </tr>\n",
       "    <tr>\n",
       "      <th>12</th>\n",
       "      <td>South ActualLoad (MWh)</td>\n",
       "      <td>0.000000</td>\n",
       "    </tr>\n",
       "  </tbody>\n",
       "</table>\n",
       "</div>"
      ],
      "text/plain": [
       "                      Predictors  Feature Importances\n",
       "10  Midwest ISO ActualLoad (MWh)             0.344409\n",
       "13         West ActualLoad (MWh)             0.143422\n",
       "6              windGenerationMWh             0.137001\n",
       "5                        NgPrice             0.105353\n",
       "0             Central Appalachia             0.075182\n",
       "7       Central ActualLoad (MWh)             0.062301\n",
       "8          East ActualLoad (MWh)             0.039073\n",
       "3             Powder River Basin             0.032448\n",
       "4                    Uinta Basin             0.022525\n",
       "1            Northern Appalachia             0.022191\n",
       "2                 Illinois Basin             0.016095\n",
       "9          MISO ActualLoad (MWh)             0.000000\n",
       "11        North ActualLoad (MWh)             0.000000\n",
       "12        South ActualLoad (MWh)             0.000000"
      ]
     },
     "execution_count": 70,
     "metadata": {},
     "output_type": "execute_result"
    }
   ],
   "source": [
    "from sklearn import metrics\n",
    "\n",
    "# Best Estimator\n",
    "rf = fit.best_estimator_\n",
    "\n",
    "# Metrics\n",
    "preds = rf.predict(X_test)\n",
    "print 'R2 Score: ', metrics.r2_score(y_test.values, preds)\n",
    "print 'Explained Variance Score: ', metrics.explained_variance_score(y_test.values, preds)\n",
    "print 'MAE: ', metrics.mean_absolute_error(y_test.values, preds)\n",
    "print 'MSE: ', metrics.mean_squared_error(y_test.values, preds)\n",
    "print 'Median AE: ', metrics.median_absolute_error(y_test.values, preds)\n",
    "\n",
    "# Feature Importances\n",
    "lcols = X_train.columns\n",
    "pd.DataFrame(zip(lcols, rf.feature_importances_), columns=['Predictors', 'Feature Importances']).sort('Feature Importances', ascending=False)"
   ]
  },
  {
   "cell_type": "code",
   "execution_count": null,
   "metadata": {
    "collapsed": true
   },
   "outputs": [],
   "source": []
  },
  {
   "cell_type": "code",
   "execution_count": null,
   "metadata": {
    "collapsed": true
   },
   "outputs": [],
   "source": []
  },
  {
   "cell_type": "code",
   "execution_count": null,
   "metadata": {
    "collapsed": true
   },
   "outputs": [],
   "source": []
  },
  {
   "cell_type": "code",
   "execution_count": null,
   "metadata": {
    "collapsed": true
   },
   "outputs": [],
   "source": []
  },
  {
   "cell_type": "code",
   "execution_count": null,
   "metadata": {
    "collapsed": true
   },
   "outputs": [],
   "source": []
  },
  {
   "cell_type": "code",
   "execution_count": null,
   "metadata": {
    "collapsed": true
   },
   "outputs": [],
   "source": []
  },
  {
   "cell_type": "code",
   "execution_count": null,
   "metadata": {
    "collapsed": true
   },
   "outputs": [],
   "source": []
  },
  {
   "cell_type": "code",
   "execution_count": 34,
   "metadata": {
    "collapsed": false
   },
   "outputs": [
    {
     "name": "stdout",
     "output_type": "stream",
     "text": [
      "Params:  {'n_estimators': 30}\n",
      "Score:  -0.0311647480664\n",
      "CPU times: user 1h 6min 12s, sys: 49.4 s, total: 1h 7min 1s\n",
      "Wall time: 25min 38s\n"
     ]
    }
   ],
   "source": [
    "%%time\n",
    "\n",
    "from sklearn.ensemble import RandomForestRegressor\n",
    "from sklearn import grid_search\n",
    "\n",
    "clf = grid_search.GridSearchCV(RandomForestRegressor(n_jobs=3), {\n",
    "        'n_estimators': [30,50],\n",
    "#         'max_features': ['auto', 'sqrt', 'log2'],\n",
    "#         'n_estimators': [30,50,75,100],\n",
    "#         'max_depth': [None,1,2,3,5],\n",
    "#         'min_samples_split': [2,3,5]\n",
    "    })\n",
    "fit = clf.fit(df.drop('meanPrice', axis=1), df['meanPrice'])\n",
    "\n",
    "print 'Best Params: ', fit.best_params_\n",
    "print 'Best Score: ', fit.best_score_\n",
    "print 'Grid Scores: ', fit.grid_scores_\n",
    "print"
   ]
  },
  {
   "cell_type": "code",
   "execution_count": 36,
   "metadata": {
    "collapsed": false
   },
   "outputs": [
    {
     "name": "stdout",
     "output_type": "stream",
     "text": [
      "Score:  0.0322719992296\n"
     ]
    }
   ],
   "source": [
    "# Best Estimator\n",
    "rf = fit.best_estimator_\n",
    "print 'Score: ', rf.score(df.drop('meanPrice', axis=1), df['meanPrice'])"
   ]
  },
  {
   "cell_type": "code",
   "execution_count": 37,
   "metadata": {
    "collapsed": false
   },
   "outputs": [
    {
     "name": "stderr",
     "output_type": "stream",
     "text": [
      "/Users/x/anaconda/envs/data/lib/python2.7/site-packages/ipykernel/__main__.py:3: FutureWarning: sort(columns=....) is deprecated, use sort_values(by=.....)\n",
      "  app.launch_new_instance()\n"
     ]
    },
    {
     "data": {
      "text/html": [
       "<div>\n",
       "<table border=\"1\" class=\"dataframe\">\n",
       "  <thead>\n",
       "    <tr style=\"text-align: right;\">\n",
       "      <th></th>\n",
       "      <th>Predictors</th>\n",
       "      <th>Feature Importances</th>\n",
       "    </tr>\n",
       "  </thead>\n",
       "  <tbody>\n",
       "    <tr>\n",
       "      <th>10</th>\n",
       "      <td>Midwest ISO ActualLoad (MWh)</td>\n",
       "      <td>0.349451</td>\n",
       "    </tr>\n",
       "    <tr>\n",
       "      <th>13</th>\n",
       "      <td>West ActualLoad (MWh)</td>\n",
       "      <td>0.144349</td>\n",
       "    </tr>\n",
       "    <tr>\n",
       "      <th>6</th>\n",
       "      <td>windGenerationMWh</td>\n",
       "      <td>0.139516</td>\n",
       "    </tr>\n",
       "    <tr>\n",
       "      <th>5</th>\n",
       "      <td>NgPrice</td>\n",
       "      <td>0.117725</td>\n",
       "    </tr>\n",
       "    <tr>\n",
       "      <th>0</th>\n",
       "      <td>Central Appalachia</td>\n",
       "      <td>0.065489</td>\n",
       "    </tr>\n",
       "    <tr>\n",
       "      <th>7</th>\n",
       "      <td>Central ActualLoad (MWh)</td>\n",
       "      <td>0.058968</td>\n",
       "    </tr>\n",
       "    <tr>\n",
       "      <th>8</th>\n",
       "      <td>East ActualLoad (MWh)</td>\n",
       "      <td>0.038283</td>\n",
       "    </tr>\n",
       "    <tr>\n",
       "      <th>3</th>\n",
       "      <td>Powder River Basin</td>\n",
       "      <td>0.030924</td>\n",
       "    </tr>\n",
       "    <tr>\n",
       "      <th>4</th>\n",
       "      <td>Uinta Basin</td>\n",
       "      <td>0.019738</td>\n",
       "    </tr>\n",
       "    <tr>\n",
       "      <th>1</th>\n",
       "      <td>Northern Appalachia</td>\n",
       "      <td>0.019021</td>\n",
       "    </tr>\n",
       "    <tr>\n",
       "      <th>2</th>\n",
       "      <td>Illinois Basin</td>\n",
       "      <td>0.016536</td>\n",
       "    </tr>\n",
       "    <tr>\n",
       "      <th>9</th>\n",
       "      <td>MISO ActualLoad (MWh)</td>\n",
       "      <td>0.000000</td>\n",
       "    </tr>\n",
       "    <tr>\n",
       "      <th>11</th>\n",
       "      <td>North ActualLoad (MWh)</td>\n",
       "      <td>0.000000</td>\n",
       "    </tr>\n",
       "    <tr>\n",
       "      <th>12</th>\n",
       "      <td>South ActualLoad (MWh)</td>\n",
       "      <td>0.000000</td>\n",
       "    </tr>\n",
       "  </tbody>\n",
       "</table>\n",
       "</div>"
      ],
      "text/plain": [
       "                      Predictors  Feature Importances\n",
       "10  Midwest ISO ActualLoad (MWh)             0.349451\n",
       "13         West ActualLoad (MWh)             0.144349\n",
       "6              windGenerationMWh             0.139516\n",
       "5                        NgPrice             0.117725\n",
       "0             Central Appalachia             0.065489\n",
       "7       Central ActualLoad (MWh)             0.058968\n",
       "8          East ActualLoad (MWh)             0.038283\n",
       "3             Powder River Basin             0.030924\n",
       "4                    Uinta Basin             0.019738\n",
       "1            Northern Appalachia             0.019021\n",
       "2                 Illinois Basin             0.016536\n",
       "9          MISO ActualLoad (MWh)             0.000000\n",
       "11        North ActualLoad (MWh)             0.000000\n",
       "12        South ActualLoad (MWh)             0.000000"
      ]
     },
     "execution_count": 37,
     "metadata": {},
     "output_type": "execute_result"
    }
   ],
   "source": [
    "# Regression Coefficients\n",
    "lcols = df.drop('meanPrice', axis=1).columns\n",
    "pd.DataFrame(zip(lcols, rf.feature_importances_), columns=['Predictors', 'Feature Importances']).sort('Feature Importances', ascending=False)"
   ]
  },
  {
   "cell_type": "markdown",
   "metadata": {},
   "source": [
    "## Random Forest Regressor (Single Node)\n",
    "*As reference, do not run*"
   ]
  },
  {
   "cell_type": "code",
   "execution_count": 80,
   "metadata": {
    "collapsed": false
   },
   "outputs": [
    {
     "name": "stdout",
     "output_type": "stream",
     "text": [
      "Params:  {'max_features': 'auto', 'min_samples_split': 3, 'n_estimators': 75, 'max_depth': 2}\n",
      "Score:  0.0150961717169\n",
      "CPU times: user 2min 22s, sys: 6.85 s, total: 2min 29s\n",
      "Wall time: 3min 4s\n"
     ]
    }
   ],
   "source": [
    "%%time\n",
    "\n",
    "from sklearn.ensemble import RandomForestRegressor\n",
    "from sklearn import grid_search\n",
    "\n",
    "clf = grid_search.GridSearchCV(RandomForestRegressor(n_jobs=3), {\n",
    "        'max_features': ['auto', 'sqrt', 'log2'],\n",
    "        'n_estimators': [30,50,75,100],\n",
    "        'max_depth': [None,1,2,3,5],\n",
    "        'min_samples_split': [2,3,5]\n",
    "    })\n",
    "fit = clf.fit(df.drop('meanPrice', axis=1), df['meanPrice'])\n",
    "\n",
    "print 'Params: ', fit.best_params_\n",
    "print 'Score: ', fit.best_score_"
   ]
  },
  {
   "cell_type": "code",
   "execution_count": 81,
   "metadata": {
    "collapsed": false
   },
   "outputs": [
    {
     "name": "stdout",
     "output_type": "stream",
     "text": [
      "Score:  0.0327399504348\n"
     ]
    }
   ],
   "source": [
    "# Best Estimator\n",
    "rf = fit.best_estimator_a\n",
    "print 'Score: ', rf.score(df.drop('meanPrice', axis=1), df['meanPrice'])"
   ]
  },
  {
   "cell_type": "code",
   "execution_count": 84,
   "metadata": {
    "collapsed": false
   },
   "outputs": [
    {
     "name": "stderr",
     "output_type": "stream",
     "text": [
      "/Users/x/anaconda/envs/data/lib/python2.7/site-packages/ipykernel/__main__.py:3: FutureWarning: sort(columns=....) is deprecated, use sort_values(by=.....)\n",
      "  app.launch_new_instance()\n"
     ]
    },
    {
     "data": {
      "text/html": [
       "<div>\n",
       "<table border=\"1\" class=\"dataframe\">\n",
       "  <thead>\n",
       "    <tr style=\"text-align: right;\">\n",
       "      <th></th>\n",
       "      <th>Predictors</th>\n",
       "      <th>Feature Importances</th>\n",
       "    </tr>\n",
       "  </thead>\n",
       "  <tbody>\n",
       "    <tr>\n",
       "      <th>5</th>\n",
       "      <td>NgPrice</td>\n",
       "      <td>0.583761</td>\n",
       "    </tr>\n",
       "    <tr>\n",
       "      <th>7</th>\n",
       "      <td>Central ActualLoad (MWh)</td>\n",
       "      <td>0.141623</td>\n",
       "    </tr>\n",
       "    <tr>\n",
       "      <th>2</th>\n",
       "      <td>Illinois Basin</td>\n",
       "      <td>0.096800</td>\n",
       "    </tr>\n",
       "    <tr>\n",
       "      <th>10</th>\n",
       "      <td>Midwest ISO ActualLoad (MWh)</td>\n",
       "      <td>0.089572</td>\n",
       "    </tr>\n",
       "    <tr>\n",
       "      <th>1</th>\n",
       "      <td>Northern Appalachia</td>\n",
       "      <td>0.042199</td>\n",
       "    </tr>\n",
       "    <tr>\n",
       "      <th>13</th>\n",
       "      <td>West ActualLoad (MWh)</td>\n",
       "      <td>0.020678</td>\n",
       "    </tr>\n",
       "    <tr>\n",
       "      <th>8</th>\n",
       "      <td>East ActualLoad (MWh)</td>\n",
       "      <td>0.014032</td>\n",
       "    </tr>\n",
       "    <tr>\n",
       "      <th>0</th>\n",
       "      <td>Central Appalachia</td>\n",
       "      <td>0.007726</td>\n",
       "    </tr>\n",
       "    <tr>\n",
       "      <th>6</th>\n",
       "      <td>windGenerationMWh</td>\n",
       "      <td>0.003608</td>\n",
       "    </tr>\n",
       "    <tr>\n",
       "      <th>3</th>\n",
       "      <td>Powder River Basin</td>\n",
       "      <td>0.000000</td>\n",
       "    </tr>\n",
       "    <tr>\n",
       "      <th>4</th>\n",
       "      <td>Uinta Basin</td>\n",
       "      <td>0.000000</td>\n",
       "    </tr>\n",
       "    <tr>\n",
       "      <th>9</th>\n",
       "      <td>MISO ActualLoad (MWh)</td>\n",
       "      <td>0.000000</td>\n",
       "    </tr>\n",
       "    <tr>\n",
       "      <th>11</th>\n",
       "      <td>North ActualLoad (MWh)</td>\n",
       "      <td>0.000000</td>\n",
       "    </tr>\n",
       "    <tr>\n",
       "      <th>12</th>\n",
       "      <td>South ActualLoad (MWh)</td>\n",
       "      <td>0.000000</td>\n",
       "    </tr>\n",
       "  </tbody>\n",
       "</table>\n",
       "</div>"
      ],
      "text/plain": [
       "                      Predictors  Feature Importances\n",
       "5                        NgPrice             0.583761\n",
       "7       Central ActualLoad (MWh)             0.141623\n",
       "2                 Illinois Basin             0.096800\n",
       "10  Midwest ISO ActualLoad (MWh)             0.089572\n",
       "1            Northern Appalachia             0.042199\n",
       "13         West ActualLoad (MWh)             0.020678\n",
       "8          East ActualLoad (MWh)             0.014032\n",
       "0             Central Appalachia             0.007726\n",
       "6              windGenerationMWh             0.003608\n",
       "3             Powder River Basin             0.000000\n",
       "4                    Uinta Basin             0.000000\n",
       "9          MISO ActualLoad (MWh)             0.000000\n",
       "11        North ActualLoad (MWh)             0.000000\n",
       "12        South ActualLoad (MWh)             0.000000"
      ]
     },
     "execution_count": 84,
     "metadata": {},
     "output_type": "execute_result"
    }
   ],
   "source": [
    "# Regression Coefficients\n",
    "lcols = df.drop('meanPrice', axis=1).columns\n",
    "pd.DataFrame(zip(lcols, rf.feature_importances_), columns=['Predictors', 'Feature Importances']).sort('Feature Importances', ascending=False)"
   ]
  }
 ],
 "metadata": {
  "kernelspec": {
   "display_name": "Python 2",
   "language": "python",
   "name": "python2"
  },
  "language_info": {
   "codemirror_mode": {
    "name": "ipython",
    "version": 2
   },
   "file_extension": ".py",
   "mimetype": "text/x-python",
   "name": "python",
   "nbconvert_exporter": "python",
   "pygments_lexer": "ipython2",
   "version": "2.7.10"
  }
 },
 "nbformat": 4,
 "nbformat_minor": 0
}
