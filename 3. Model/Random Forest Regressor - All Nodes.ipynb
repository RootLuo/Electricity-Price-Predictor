{
 "cells": [
  {
   "cell_type": "code",
   "execution_count": 1,
   "metadata": {
    "collapsed": false
   },
   "outputs": [],
   "source": [
    "%matplotlib inline\n",
    "\n",
    "import numpy as np\n",
    "import pandas as pd\n",
    "import matplotlib.pyplot as plt\n",
    "from pylab import rcParams\n",
    "rcParams['figure.figsize'] = 20,10\n",
    "\n",
    "from sklearn import linear_model"
   ]
  },
  {
   "cell_type": "markdown",
   "metadata": {},
   "source": [
    "## Predictor Variables"
   ]
  },
  {
   "cell_type": "code",
   "execution_count": 2,
   "metadata": {
    "collapsed": false
   },
   "outputs": [],
   "source": [
    "# Commodity Prices\n",
    "dfCommodity = pd.read_csv('../data/commodityPrices.csv')\n",
    "dfCommodity['date'] = pd.to_datetime(dfCommodity['date'])\n",
    "dfCommodity = dfCommodity.set_index('date').sort_index()\n",
    "\n",
    "# Wind Generation\n",
    "dfWind = pd.read_csv('../data/MISOWindGeneration.csv')\n",
    "dfWind['date'] = pd.to_datetime(dfWind['date'])\n",
    "dfWind = dfWind.set_index('date').sort_index()\n",
    "\n",
    "# Demand\n",
    "dfLoad = pd.read_csv('../data/MISOActualLoad.csv')\n",
    "dfLoad['Market Day'] = pd.to_datetime(dfLoad['Market Day'])\n",
    "dfLoad = dfLoad.set_index('Market Day').sort_index()\n",
    "dfLoad.index.names = ['date']\n",
    "dfLoadActual = dfLoad[['Central ActualLoad (MWh)', 'East ActualLoad (MWh)', 'MISO ActualLoad (MWh)', 'Midwest ISO ActualLoad (MWh)', 'North ActualLoad (MWh)', 'South ActualLoad (MWh)', 'West ActualLoad (MWh)']]\n",
    "dfLoadActual = dfLoadActual.fillna(0)    # Handle NaN"
   ]
  },
  {
   "cell_type": "code",
   "execution_count": 3,
   "metadata": {
    "collapsed": false
   },
   "outputs": [
    {
     "data": {
      "text/html": [
       "<div>\n",
       "<table border=\"1\" class=\"dataframe\">\n",
       "  <thead>\n",
       "    <tr style=\"text-align: right;\">\n",
       "      <th></th>\n",
       "      <th>Central Appalachia</th>\n",
       "      <th>Northern Appalachia</th>\n",
       "      <th>Illinois Basin</th>\n",
       "      <th>Powder River Basin</th>\n",
       "      <th>Uinta Basin</th>\n",
       "      <th>NgPrice</th>\n",
       "      <th>windGenerationMWh</th>\n",
       "      <th>Central ActualLoad (MWh)</th>\n",
       "      <th>East ActualLoad (MWh)</th>\n",
       "      <th>MISO ActualLoad (MWh)</th>\n",
       "      <th>Midwest ISO ActualLoad (MWh)</th>\n",
       "      <th>North ActualLoad (MWh)</th>\n",
       "      <th>South ActualLoad (MWh)</th>\n",
       "      <th>West ActualLoad (MWh)</th>\n",
       "    </tr>\n",
       "    <tr>\n",
       "      <th>date</th>\n",
       "      <th></th>\n",
       "      <th></th>\n",
       "      <th></th>\n",
       "      <th></th>\n",
       "      <th></th>\n",
       "      <th></th>\n",
       "      <th></th>\n",
       "      <th></th>\n",
       "      <th></th>\n",
       "      <th></th>\n",
       "      <th></th>\n",
       "      <th></th>\n",
       "      <th></th>\n",
       "      <th></th>\n",
       "    </tr>\n",
       "  </thead>\n",
       "  <tbody>\n",
       "    <tr>\n",
       "      <th>2009-07-06</th>\n",
       "      <td>53.333333</td>\n",
       "      <td>51.166667</td>\n",
       "      <td>44</td>\n",
       "      <td>9</td>\n",
       "      <td>44.5</td>\n",
       "      <td>3.355000</td>\n",
       "      <td>325.927083</td>\n",
       "      <td>21654.299167</td>\n",
       "      <td>28127.989583</td>\n",
       "      <td>0</td>\n",
       "      <td>62493.192500</td>\n",
       "      <td>0</td>\n",
       "      <td>0</td>\n",
       "      <td>12710.903750</td>\n",
       "    </tr>\n",
       "    <tr>\n",
       "      <th>2009-07-07</th>\n",
       "      <td>53.500000</td>\n",
       "      <td>52.000000</td>\n",
       "      <td>44</td>\n",
       "      <td>9</td>\n",
       "      <td>44.5</td>\n",
       "      <td>3.300000</td>\n",
       "      <td>511.056250</td>\n",
       "      <td>22956.574167</td>\n",
       "      <td>27699.694167</td>\n",
       "      <td>0</td>\n",
       "      <td>63508.234167</td>\n",
       "      <td>0</td>\n",
       "      <td>0</td>\n",
       "      <td>12851.965833</td>\n",
       "    </tr>\n",
       "    <tr>\n",
       "      <th>2009-07-08</th>\n",
       "      <td>53.500000</td>\n",
       "      <td>52.000000</td>\n",
       "      <td>44</td>\n",
       "      <td>9</td>\n",
       "      <td>44.5</td>\n",
       "      <td>3.298571</td>\n",
       "      <td>728.637083</td>\n",
       "      <td>22402.212500</td>\n",
       "      <td>27335.640833</td>\n",
       "      <td>0</td>\n",
       "      <td>62295.661250</td>\n",
       "      <td>0</td>\n",
       "      <td>0</td>\n",
       "      <td>12557.807917</td>\n",
       "    </tr>\n",
       "    <tr>\n",
       "      <th>2009-07-09</th>\n",
       "      <td>53.500000</td>\n",
       "      <td>52.000000</td>\n",
       "      <td>44</td>\n",
       "      <td>9</td>\n",
       "      <td>44.5</td>\n",
       "      <td>3.297143</td>\n",
       "      <td>1716.773333</td>\n",
       "      <td>23165.527500</td>\n",
       "      <td>28635.972917</td>\n",
       "      <td>0</td>\n",
       "      <td>64392.903333</td>\n",
       "      <td>0</td>\n",
       "      <td>0</td>\n",
       "      <td>12591.402917</td>\n",
       "    </tr>\n",
       "    <tr>\n",
       "      <th>2009-07-10</th>\n",
       "      <td>53.500000</td>\n",
       "      <td>52.000000</td>\n",
       "      <td>44</td>\n",
       "      <td>9</td>\n",
       "      <td>44.5</td>\n",
       "      <td>3.295714</td>\n",
       "      <td>837.547917</td>\n",
       "      <td>23676.907917</td>\n",
       "      <td>29816.782083</td>\n",
       "      <td>0</td>\n",
       "      <td>66701.584583</td>\n",
       "      <td>0</td>\n",
       "      <td>0</td>\n",
       "      <td>13207.894583</td>\n",
       "    </tr>\n",
       "  </tbody>\n",
       "</table>\n",
       "</div>"
      ],
      "text/plain": [
       "            Central Appalachia  Northern Appalachia  Illinois Basin  \\\n",
       "date                                                                  \n",
       "2009-07-06           53.333333            51.166667              44   \n",
       "2009-07-07           53.500000            52.000000              44   \n",
       "2009-07-08           53.500000            52.000000              44   \n",
       "2009-07-09           53.500000            52.000000              44   \n",
       "2009-07-10           53.500000            52.000000              44   \n",
       "\n",
       "            Powder River Basin  Uinta Basin   NgPrice  windGenerationMWh  \\\n",
       "date                                                                       \n",
       "2009-07-06                   9         44.5  3.355000         325.927083   \n",
       "2009-07-07                   9         44.5  3.300000         511.056250   \n",
       "2009-07-08                   9         44.5  3.298571         728.637083   \n",
       "2009-07-09                   9         44.5  3.297143        1716.773333   \n",
       "2009-07-10                   9         44.5  3.295714         837.547917   \n",
       "\n",
       "            Central ActualLoad (MWh)  East ActualLoad (MWh)  \\\n",
       "date                                                          \n",
       "2009-07-06              21654.299167           28127.989583   \n",
       "2009-07-07              22956.574167           27699.694167   \n",
       "2009-07-08              22402.212500           27335.640833   \n",
       "2009-07-09              23165.527500           28635.972917   \n",
       "2009-07-10              23676.907917           29816.782083   \n",
       "\n",
       "            MISO ActualLoad (MWh)  Midwest ISO ActualLoad (MWh)  \\\n",
       "date                                                              \n",
       "2009-07-06                      0                  62493.192500   \n",
       "2009-07-07                      0                  63508.234167   \n",
       "2009-07-08                      0                  62295.661250   \n",
       "2009-07-09                      0                  64392.903333   \n",
       "2009-07-10                      0                  66701.584583   \n",
       "\n",
       "            North ActualLoad (MWh)  South ActualLoad (MWh)  \\\n",
       "date                                                         \n",
       "2009-07-06                       0                       0   \n",
       "2009-07-07                       0                       0   \n",
       "2009-07-08                       0                       0   \n",
       "2009-07-09                       0                       0   \n",
       "2009-07-10                       0                       0   \n",
       "\n",
       "            West ActualLoad (MWh)  \n",
       "date                               \n",
       "2009-07-06           12710.903750  \n",
       "2009-07-07           12851.965833  \n",
       "2009-07-08           12557.807917  \n",
       "2009-07-09           12591.402917  \n",
       "2009-07-10           13207.894583  "
      ]
     },
     "execution_count": 3,
     "metadata": {},
     "output_type": "execute_result"
    }
   ],
   "source": [
    "# Merge into a single DataFrame\n",
    "dfX = pd.merge(dfCommodity, dfWind, left_index=True, right_index=True)\n",
    "dfX = pd.merge(dfX, dfLoadActual, left_index=True, right_index=True)\n",
    "dfX.head()"
   ]
  },
  {
   "cell_type": "markdown",
   "metadata": {},
   "source": [
    "## Response Variable"
   ]
  },
  {
   "cell_type": "code",
   "execution_count": 4,
   "metadata": {
    "collapsed": true
   },
   "outputs": [],
   "source": [
    "dfMiso = pd.read_hdf('../data/LMP.h5')"
   ]
  },
  {
   "cell_type": "markdown",
   "metadata": {},
   "source": [
    "## Data Prep before Regression"
   ]
  },
  {
   "cell_type": "code",
   "execution_count": 6,
   "metadata": {
    "collapsed": false
   },
   "outputs": [
    {
     "name": "stdout",
     "output_type": "stream",
     "text": [
      "CPU times: user 24.8 s, sys: 3.78 s, total: 28.6 s\n",
      "Wall time: 29.8 s\n"
     ]
    }
   ],
   "source": [
    "%%time\n",
    "\n",
    "# Collapse MultiIndex of dfY(to prep for merge with dfX)\n",
    "dfY = dfMiso.dropna()                                   # Drop rows with NA\n",
    "dfY = dfY.reset_index()                                 # collapse MultiIndex\n",
    "dfY = dfY[['date', 'meanPrice']].set_index('date')\n",
    "dfY.index = pd.to_datetime(dfY.index, format='%Y%m%d')  # expensive operation (parsing 20,000,000 dates)"
   ]
  },
  {
   "cell_type": "code",
   "execution_count": 7,
   "metadata": {
    "collapsed": false
   },
   "outputs": [
    {
     "data": {
      "text/html": [
       "<div>\n",
       "<table border=\"1\" class=\"dataframe\">\n",
       "  <thead>\n",
       "    <tr style=\"text-align: right;\">\n",
       "      <th></th>\n",
       "      <th>meanPrice</th>\n",
       "    </tr>\n",
       "    <tr>\n",
       "      <th>date</th>\n",
       "      <th></th>\n",
       "    </tr>\n",
       "  </thead>\n",
       "  <tbody>\n",
       "    <tr>\n",
       "      <th>2005-06-16</th>\n",
       "      <td>29.463750</td>\n",
       "    </tr>\n",
       "    <tr>\n",
       "      <th>2005-06-16</th>\n",
       "      <td>-0.947083</td>\n",
       "    </tr>\n",
       "    <tr>\n",
       "      <th>2005-06-16</th>\n",
       "      <td>-0.393333</td>\n",
       "    </tr>\n",
       "    <tr>\n",
       "      <th>2005-06-17</th>\n",
       "      <td>28.973750</td>\n",
       "    </tr>\n",
       "    <tr>\n",
       "      <th>2005-06-17</th>\n",
       "      <td>1.207917</td>\n",
       "    </tr>\n",
       "  </tbody>\n",
       "</table>\n",
       "</div>"
      ],
      "text/plain": [
       "            meanPrice\n",
       "date                 \n",
       "2005-06-16  29.463750\n",
       "2005-06-16  -0.947083\n",
       "2005-06-16  -0.393333\n",
       "2005-06-17  28.973750\n",
       "2005-06-17   1.207917"
      ]
     },
     "execution_count": 7,
     "metadata": {},
     "output_type": "execute_result"
    }
   ],
   "source": [
    "dfY.head()"
   ]
  },
  {
   "cell_type": "code",
   "execution_count": 8,
   "metadata": {
    "collapsed": false
   },
   "outputs": [],
   "source": [
    "# Inner Join on 20,000,000 rows! (3.45 secs)\n",
    "df = pd.merge(dfY, dfX, left_index=True, right_index=True, how='inner')\n",
    "df = df[:'2013-09-01']\n",
    "\n",
    "# Plot (Do not plot this! Takes too long. Looks the same as the regular plots)\n",
    "# df.plot()"
   ]
  },
  {
   "cell_type": "markdown",
   "metadata": {},
   "source": [
    "## Random Forest Regression (All Nodes)\n",
    "Get a feel of training time for 20 million data points"
   ]
  },
  {
   "cell_type": "code",
   "execution_count": 23,
   "metadata": {
    "collapsed": false
   },
   "outputs": [
    {
     "name": "stdout",
     "output_type": "stream",
     "text": [
      "R2 Score:  0.32390779247\n",
      "Explained Variance Score:  0.323907969289\n",
      "MAE:  0.0602570169812\n",
      "MSE:  0.00614812221323\n",
      "Median AE:  0.0472754240189\n",
      "\n",
      "CPU times: user 7min 27s, sys: 4.66 s, total: 7min 32s\n",
      "Wall time: 2min 42s\n"
     ]
    },
    {
     "name": "stderr",
     "output_type": "stream",
     "text": [
      "/Users/x/anaconda/envs/data/lib/python2.7/site-packages/ipykernel/__main__.py:51: FutureWarning: sort(columns=....) is deprecated, use sort_values(by=.....)\n"
     ]
    }
   ],
   "source": [
    "%%time\n",
    "\n",
    "from sklearn.cross_validation import train_test_split\n",
    "from sklearn import grid_search\n",
    "from sklearn.ensemble import RandomForestRegressor\n",
    "from sklearn import metrics\n",
    "from scipy import stats\n",
    "\n",
    "\n",
    "# Outlier Removal: Very low LMP\n",
    "df2 = df.copy()\n",
    "df2 = df2[df2['meanPrice'] > 15]\n",
    "\n",
    "\n",
    "# Log Transform\n",
    "df2['meanPrice'] = np.log(df2['meanPrice'] + 50)\n",
    "df2['NgPrice'] = np.log(df2['NgPrice'])\n",
    "\n",
    "\n",
    "# Log Transform - Translate by tiny amount to avoid np.log(0)\n",
    "df2['Northern Appalachia'] = np.log(df2['Northern Appalachia'] + 0.1)\n",
    "df2['Illinois Basin'] = np.log(df2['Illinois Basin'] + 0.1)\n",
    "df2['Uinta Basin'] = np.log(df2['Uinta Basin'] + 0.1)\n",
    "df2['Powder River Basin'] = np.log(df2['Uinta Basin'] + 0.1)\n",
    "df2['Central Appalachia'] = np.log(df2['Central Appalachia'] + 0.1)\n",
    "\n",
    "\n",
    "# Outlier Removal: 2-sd\n",
    "df2 = df2[(np.abs(stats.zscore(df2['meanPrice'])) < 2)]\n",
    "\n",
    "# Split into training/testing sets\n",
    "X_train, X_test, y_train, y_test = train_test_split(df2.drop('meanPrice', axis=1), df2['meanPrice'], \n",
    "                                                    test_size=0.2, random_state=0)\n",
    "\n",
    "\n",
    "# Train model\n",
    "rf = RandomForestRegressor(n_jobs=3, min_samples_split=5, n_estimators=75, max_depth=5)\n",
    "fit = rf.fit(X_train, y_train)\n",
    "\n",
    "\n",
    "# Metrics\n",
    "preds = rf.predict(X_test)\n",
    "print 'R2 Score: ', metrics.r2_score(y_test.values, preds)\n",
    "print 'Explained Variance Score: ', metrics.explained_variance_score(y_test.values, preds)\n",
    "print 'MAE: ', metrics.mean_absolute_error(y_test.values, preds)\n",
    "print 'MSE: ', metrics.mean_squared_error(y_test.values, preds)\n",
    "print 'Median AE: ', metrics.median_absolute_error(y_test.values, preds)\n",
    "print\n",
    "\n",
    "# Feature Importances\n",
    "lcols = X_train.columns\n",
    "pd.DataFrame(zip(lcols, rf.feature_importances_), columns=['Predictors', 'Feature Importances']).sort('Feature Importances', ascending=False)"
   ]
  },
  {
   "cell_type": "code",
   "execution_count": null,
   "metadata": {
    "collapsed": true
   },
   "outputs": [],
   "source": []
  }
 ],
 "metadata": {
  "kernelspec": {
   "display_name": "Python 2",
   "language": "python",
   "name": "python2"
  },
  "language_info": {
   "codemirror_mode": {
    "name": "ipython",
    "version": 2
   },
   "file_extension": ".py",
   "mimetype": "text/x-python",
   "name": "python",
   "nbconvert_exporter": "python",
   "pygments_lexer": "ipython2",
   "version": "2.7.10"
  }
 },
 "nbformat": 4,
 "nbformat_minor": 0
}
