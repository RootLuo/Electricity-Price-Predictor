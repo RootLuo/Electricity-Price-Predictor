{
 "cells": [
  {
   "cell_type": "markdown",
   "metadata": {},
   "source": [
    "#PJM Day Ahead Prices\n",
    "\n",
    "Using the same methodology as the realtime prices."
   ]
  },
  {
   "cell_type": "code",
   "execution_count": 7,
   "metadata": {
    "collapsed": true
   },
   "outputs": [],
   "source": [
    "# The %... is an iPython thing, and is not part of the Python language.\n",
    "# In this case we're just telling the plotting library to draw things on\n",
    "# the notebook, instead of on a separate window.\n",
    "%matplotlib inline\n",
    "# See all the \"as ...\" contructs? They're just aliasing the package names.\n",
    "# That way we can call methods like plt.plot() instead of matplotlib.pyplot.plot().\n",
    "import numpy as np\n",
    "import scipy as sp\n",
    "import matplotlib as mpl\n",
    "import matplotlib.cm as cm\n",
    "import matplotlib.pyplot as plt\n",
    "import pandas as pd\n",
    "import time as tm\n",
    "pd.set_option('display.width', 500)\n",
    "pd.set_option('display.max_columns', 100)\n",
    "pd.set_option('display.notebook_repr_html', True)\n",
    "import seaborn as sns\n",
    "sns.set_style(\"whitegrid\")\n",
    "sns.set_context(\"poster\")\n",
    "import requests\n",
    "import json"
   ]
  },
  {
   "cell_type": "code",
   "execution_count": 2,
   "metadata": {
    "collapsed": true
   },
   "outputs": [],
   "source": [
    "from datetime import datetime, timedelta, date, time\n",
    "\n",
    "#Using code adapted from http://stackoverflow.com/questions/1060279/iterating-through-a-range-of-dates-in-python\n",
    "def daterange(start, end):\n",
    "    for n in range(int((end - start).days)):\n",
    "        yield start + timedelta(n)\n",
    "        \n",
    "def formatDate(aDate):\n",
    "    return aDate.strftime('%Y-%m-%d')\n",
    "\n",
    "def adjustTime(parts):\n",
    "    dtstring = parts['date'] + ' ' + parts['time']\n",
    "    dtformat = '%Y-%m-%d %H:%M:%S'\n",
    "    adjusted = datetime.strptime(dtstring, dtformat) - timedelta(hours = 4)\n",
    "    return adjusted\n",
    "\n",
    "def getHour(adjustedDatetime):\n",
    "    t = adjustedDatetime.time()\n",
    "    tstring = t.strftime('%H:%M:%S')\n",
    "    tparts = tstring.split(':', 2)\n",
    "    return tparts[0]\n",
    "\n",
    "def splitDateTime(utchour):\n",
    "    #split datetime into date and time components\n",
    "    datetime_parts = utchour.split('T', 1)\n",
    "    parts = dict(date = datetime_parts[0], time = datetime_parts[1].rstrip('Z'))\n",
    "    return parts"
   ]
  },
  {
   "cell_type": "code",
   "execution_count": 3,
   "metadata": {
    "collapsed": true
   },
   "outputs": [],
   "source": [
    "#These are all the nodes we're interested in so far.\n",
    "nodeList = [\n",
    "    5021673,\n",
    "    32417525,\n",
    "    32417527,\n",
    "    32417545,\n",
    "    32417547,\n",
    "    32417599,\n",
    "    32417601,\n",
    "    32417629,\n",
    "    32417631,\n",
    "    32417633,\n",
    "    32417635\n",
    "]\n",
    "#This is the base URL for the PJM REST API for Day-Ahead prices\n",
    "url = 'https://dataminer.pjm.com/dataminer/rest/public/api/markets/dayahead/lmp/daily'"
   ]
  },
  {
   "cell_type": "code",
   "execution_count": 8,
   "metadata": {
    "collapsed": false
   },
   "outputs": [],
   "source": [
    "params_list = [\n",
    "    dict(startDate = formatDate(date(2008, 1, 1)), endDate = formatDate(date(2008, 12, 31)), pnodeList = nodeList),\n",
    "    dict(startDate = formatDate(date(2009, 1, 1)), endDate = formatDate(date(2009, 12, 31)), pnodeList = nodeList),\n",
    "    dict(startDate = formatDate(date(2010, 1, 1)), endDate = formatDate(date(2010, 12, 31)), pnodeList = nodeList),\n",
    "    dict(startDate = formatDate(date(2011, 1, 1)), endDate = formatDate(date(2011, 12, 31)), pnodeList = nodeList),\n",
    "    dict(startDate = formatDate(date(2012, 1, 1)), endDate = formatDate(date(2012, 12, 31)), pnodeList = nodeList),\n",
    "    dict(startDate = formatDate(date(2013, 1, 1)), endDate = formatDate(date(2013, 12, 31)), pnodeList = nodeList),\n",
    "    dict(startDate = formatDate(date(2014, 1, 1)), endDate = formatDate(date(2014, 12, 31)), pnodeList = nodeList),\n",
    "    dict(startDate = formatDate(date(2015, 1, 1)), endDate = formatDate(date(2015, 11, 1)), pnodeList = nodeList)\n",
    "]\n",
    "\n",
    "results_dict = {}\n",
    "\n",
    "for i in range(0, len(params_list)):\n",
    "    \n",
    "    #make the API call\n",
    "    r = requests.post(url, json = params_list[i])\n",
    "    if r.status_code == requests.codes.ok:\n",
    "        results_dict[i] = r.json()\n",
    "    else:\n",
    "        r.raise_for_status()\n",
    "        \n",
    "    #be nice to the API, wait 2 seconds\n",
    "    tm.sleep(2)"
   ]
  },
  {
   "cell_type": "code",
   "execution_count": 9,
   "metadata": {
    "collapsed": true
   },
   "outputs": [],
   "source": [
    "recordsList = []\n",
    "for result in results_dict.values():\n",
    "    \n",
    "    #make a new row for each individual price\n",
    "    for record in result:\n",
    "        #we are only interested in Total LMP per Sam's email\n",
    "        if record['priceType'] == 'TotalLMP':\n",
    "            data = {}\n",
    "            data['pnodeId'] = record['pnodeId']\n",
    "            published = splitDateTime(record['publishDate'])\n",
    "            data['publishDate'] = published['date']\n",
    "            for p in record['prices']:\n",
    "                utcparts = splitDateTime(p['utchour'])\n",
    "                hour = getHour(adjustTime(utcparts))\n",
    "                if hour == '00':\n",
    "                    hour = '24'\n",
    "                key = 'price_' + hour\n",
    "                data[key] = p['price']\n",
    "            recordsList.append(data)"
   ]
  },
  {
   "cell_type": "code",
   "execution_count": 10,
   "metadata": {
    "collapsed": false
   },
   "outputs": [
    {
     "name": "stdout",
     "output_type": "stream",
     "text": [
      "(31482, 26)\n"
     ]
    }
   ],
   "source": [
    "rawdf = pd.DataFrame(recordsList)\n",
    "print rawdf.shape"
   ]
  },
  {
   "cell_type": "code",
   "execution_count": 11,
   "metadata": {
    "collapsed": true
   },
   "outputs": [],
   "source": [
    "rawdf.to_csv('rawdf_pjm_dayahead.csv')"
   ]
  },
  {
   "cell_type": "code",
   "execution_count": null,
   "metadata": {
    "collapsed": true
   },
   "outputs": [],
   "source": []
  }
 ],
 "metadata": {
  "kernelspec": {
   "display_name": "Python 2",
   "language": "python",
   "name": "python2"
  },
  "language_info": {
   "codemirror_mode": {
    "name": "ipython",
    "version": 2
   },
   "file_extension": ".py",
   "mimetype": "text/x-python",
   "name": "python",
   "nbconvert_exporter": "python",
   "pygments_lexer": "ipython2",
   "version": "2.7.10"
  }
 },
 "nbformat": 4,
 "nbformat_minor": 0
}
