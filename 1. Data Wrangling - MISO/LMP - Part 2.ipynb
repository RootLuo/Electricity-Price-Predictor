{
 "cells": [
  {
   "cell_type": "code",
   "execution_count": null,
   "metadata": {
    "collapsed": true
   },
   "outputs": [],
   "source": [
    "%matplotlib inline\n",
    "\n",
    "import glob\n",
    "import numpy as np\n",
    "import pandas as pd"
   ]
  },
  {
   "cell_type": "markdown",
   "metadata": {},
   "source": [
    "## Create big DataFrame from individual .csv"
   ]
  },
  {
   "cell_type": "code",
   "execution_count": null,
   "metadata": {
    "collapsed": false
   },
   "outputs": [
    {
     "name": "stdout",
     "output_type": "stream",
     "text": [
      "../data/raw/MISO - RT LMP/20130101_rt_lmp_final.csv\n",
      "../data/raw/MISO - RT LMP/20130102_rt_lmp_final.csv\n",
      "../data/raw/MISO - RT LMP/20130103_rt_lmp_final.csv\n",
      "../data/raw/MISO - RT LMP/20130104_rt_lmp_final.csv\n",
      "../data/raw/MISO - RT LMP/20130105_rt_lmp_final.csv\n",
      "../data/raw/MISO - RT LMP/20130106_rt_lmp_final.csv\n",
      "../data/raw/MISO - RT LMP/20130107_rt_lmp_final.csv\n",
      "../data/raw/MISO - RT LMP/20130108_rt_lmp_final.csv"
     ]
    }
   ],
   "source": [
    "%%time\n",
    "\n",
    "# Get list of all LMP CSV files\n",
    "path = '../data/raw/MISO - RT LMP/'\n",
    "allFilePaths = glob.glob(path + \"/*.csv\")\n",
    "\n",
    "# Create big DataFrame of LMP (2013-2015)\n",
    "df = pd.DataFrame()\n",
    "for filePath in allFilePaths:\n",
    "    # Create DataFramr from CSV\n",
    "    dfNew = pd.read_csv(filePath, skiprows=4)\n",
    "    \n",
    "    # Create new DataFrame with mean of hourly prices\n",
    "    df2 = dfNew.copy()[['Node', 'Type']]\n",
    "    df2['meanPrice'] = dfNew.apply(lambda x: x[['HE 1', 'HE 2', 'HE 3', 'HE 4', 'HE 5', 'HE 6', 'HE 7', 'HE 8', 'HE 9', \n",
    "                                            'HE 10', 'HE 11', 'HE 12', 'HE 13', 'HE 14', 'HE 15', 'HE 16', 'HE 17', \n",
    "                                           'HE 18', 'HE 19', 'HE 20', 'HE 21', 'HE 22', 'HE 23', 'HE 24']].mean(), \n",
    "                               axis=1)\n",
    "    df2['date'] = filePath[26:][:8]\n",
    "    \n",
    "    # Append to main DataFrame\n",
    "    df = pd.concat([df,df2])\n",
    "    print filePath"
   ]
  },
  {
   "cell_type": "code",
   "execution_count": null,
   "metadata": {
    "collapsed": false
   },
   "outputs": [],
   "source": [
    "df.head()"
   ]
  },
  {
   "cell_type": "code",
   "execution_count": null,
   "metadata": {
    "collapsed": false
   },
   "outputs": [],
   "source": [
    "# Write to HDFStore\n",
    "df.to_hdf('../data/LMP-raw-2.h5', 'lmp', format='table')"
   ]
  },
  {
   "cell_type": "markdown",
   "metadata": {},
   "source": [
    "## Create MultiIndex DataFrame"
   ]
  },
  {
   "cell_type": "code",
   "execution_count": null,
   "metadata": {
    "collapsed": false
   },
   "outputs": [],
   "source": [
    "# Create multiindex\n",
    "df = df.set_index(['date','Node']).sortlevel()\n",
    "df.head()"
   ]
  },
  {
   "cell_type": "code",
   "execution_count": null,
   "metadata": {
    "collapsed": false
   },
   "outputs": [],
   "source": [
    "# Write to HDFStore\n",
    "df.to_hdf('../data/LMP-raw-2.h5', 'lmp', format='table')"
   ]
  },
  {
   "cell_type": "markdown",
   "metadata": {},
   "source": [
    "Checkpoint :)\n",
    "\n",
    "## Load from HDFStore"
   ]
  },
  {
   "cell_type": "code",
   "execution_count": null,
   "metadata": {
    "collapsed": false
   },
   "outputs": [],
   "source": [
    "%%time\n",
    "\n",
    "# Load from HDStore\n",
    "df = pd.read_hdf('../data/LMP-raw-2.h5')"
   ]
  },
  {
   "cell_type": "markdown",
   "metadata": {},
   "source": [
    "and proceed to do cool stuff!"
   ]
  }
 ],
 "metadata": {
  "kernelspec": {
   "display_name": "Python 2",
   "language": "python",
   "name": "python2"
  },
  "language_info": {
   "codemirror_mode": {
    "name": "ipython",
    "version": 2
   },
   "file_extension": ".py",
   "mimetype": "text/x-python",
   "name": "python",
   "nbconvert_exporter": "python",
   "pygments_lexer": "ipython2",
   "version": "2.7.10"
  }
 },
 "nbformat": 4,
 "nbformat_minor": 0
}
