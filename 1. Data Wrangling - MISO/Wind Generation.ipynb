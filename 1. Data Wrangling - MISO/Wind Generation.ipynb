{
 "cells": [
  {
   "cell_type": "code",
   "execution_count": 1,
   "metadata": {
    "collapsed": true
   },
   "outputs": [],
   "source": [
    "import glob\n",
    "import numpy as np\n",
    "import pandas as pd"
   ]
  },
  {
   "cell_type": "markdown",
   "metadata": {},
   "source": [
    "## Read CSVs into DataFrame\n",
    "\n",
    "2008-2012\n",
    "https://www.misoenergy.org/Library/MarketReports/Pages/ArchivedHistoricalHourlyWindData.aspx\n",
    "\n",
    "2013-2015\n",
    "https://www.misoenergy.org/RTDisplays/MKTRPT/AllReportsList.html?rptName=Historical%20Hourly%20Wind%20Data%20(csv)"
   ]
  },
  {
   "cell_type": "code",
   "execution_count": 2,
   "metadata": {
    "collapsed": false
   },
   "outputs": [
    {
     "name": "stdout",
     "output_type": "stream",
     "text": [
      "../data/raw/MISO - Wind Generation\\20081231_hwd_HIST.csv\n",
      "../data/raw/MISO - Wind Generation\\20091231_hwd_HIST.csv\n",
      "../data/raw/MISO - Wind Generation\\20101231_hwd_HIST.csv\n",
      "../data/raw/MISO - Wind Generation\\20111231_hwd_HIST.csv\n",
      "../data/raw/MISO - Wind Generation\\20121231_hwd_HIST.csv\n",
      "../data/raw/MISO - Wind Generation\\20131231_hwd_HIST.csv\n",
      "../data/raw/MISO - Wind Generation\\20141231_hwd_hist.csv\n",
      "../data/raw/MISO - Wind Generation\\20151121_hwd_hist.csv\n"
     ]
    }
   ],
   "source": [
    "# Get list of all LMP CSV files\n",
    "path = '../data/raw/MISO - Wind Generation'\n",
    "allFilePaths = glob.glob(path + \"/*.csv\")\n",
    "\n",
    "for filePath in allFilePaths:\n",
    "    print filePath"
   ]
  },
  {
   "cell_type": "code",
   "execution_count": 3,
   "metadata": {
    "collapsed": true
   },
   "outputs": [],
   "source": [
    "# Treat the 2 sets of files separately as they have different formats\n",
    "filePaths1 = ['../data/raw/MISO - Wind Generation/20081231_hwd_HIST.csv',\n",
    "'../data/raw/MISO - Wind Generation/20091231_hwd_HIST.csv',\n",
    "'../data/raw/MISO - Wind Generation/20101231_hwd_HIST.csv',\n",
    "'../data/raw/MISO - Wind Generation/20111231_hwd_HIST.csv']\n",
    "\n",
    "filePaths2 = ['../data/raw/MISO - Wind Generation/20121231_hwd_HIST.csv',\n",
    "             '../data/raw/MISO - Wind Generation/20131231_hwd_HIST.csv',\n",
    "             '../data/raw/MISO - Wind Generation/20141231_hwd_HIST.csv',\n",
    "             '../data/raw/MISO - Wind Generation/20151121_hwd_HIST.csv']"
   ]
  },
  {
   "cell_type": "markdown",
   "metadata": {},
   "source": [
    "## Wind Generation 2008-2010"
   ]
  },
  {
   "cell_type": "code",
   "execution_count": 4,
   "metadata": {
    "collapsed": true
   },
   "outputs": [],
   "source": [
    "dfWind = pd.DataFrame()"
   ]
  },
  {
   "cell_type": "code",
   "execution_count": 5,
   "metadata": {
    "collapsed": false
   },
   "outputs": [
    {
     "name": "stderr",
     "output_type": "stream",
     "text": [
      "Skipping line 8793: expected 2 fields, saw 10\n",
      "\n",
      "Skipping line 8770: expected 2 fields, saw 10\n",
      "\n",
      "Skipping line 8770: expected 2 fields, saw 10\n",
      "\n",
      "Skipping line 8770: expected 2 fields, saw 10\n",
      "\n"
     ]
    },
    {
     "data": {
      "text/html": [
       "<div>\n",
       "<table border=\"1\" class=\"dataframe\">\n",
       "  <thead>\n",
       "    <tr style=\"text-align: right;\">\n",
       "      <th></th>\n",
       "      <th>windGenerationMWh</th>\n",
       "    </tr>\n",
       "  </thead>\n",
       "  <tbody>\n",
       "    <tr>\n",
       "      <th>2008-01-01 01:00:00</th>\n",
       "      <td>1104.05</td>\n",
       "    </tr>\n",
       "    <tr>\n",
       "      <th>2008-01-01 02:00:00</th>\n",
       "      <td>1210.31</td>\n",
       "    </tr>\n",
       "    <tr>\n",
       "      <th>2008-01-01 03:00:00</th>\n",
       "      <td>1173.34</td>\n",
       "    </tr>\n",
       "    <tr>\n",
       "      <th>2008-01-01 04:00:00</th>\n",
       "      <td>1146.36</td>\n",
       "    </tr>\n",
       "    <tr>\n",
       "      <th>2008-01-01 05:00:00</th>\n",
       "      <td>1179.32</td>\n",
       "    </tr>\n",
       "  </tbody>\n",
       "</table>\n",
       "</div>"
      ],
      "text/plain": [
       "                     windGenerationMWh\n",
       "2008-01-01 01:00:00            1104.05\n",
       "2008-01-01 02:00:00            1210.31\n",
       "2008-01-01 03:00:00            1173.34\n",
       "2008-01-01 04:00:00            1146.36\n",
       "2008-01-01 05:00:00            1179.32"
      ]
     },
     "execution_count": 5,
     "metadata": {},
     "output_type": "execute_result"
    }
   ],
   "source": [
    "for filePath in filePaths1:\n",
    "    # Read CSV as time series\n",
    "    df = pd.read_csv(filePath, skiprows=7, error_bad_lines=False)\n",
    "    df.columns = ['date', 'windGenerationMWh']\n",
    "    df = df.set_index('date')\n",
    "    df.index = pd.to_datetime(df.index, format='%m/%d/%y %I:%M %p')\n",
    "    df = df.sort_index()\n",
    "\n",
    "    # Resample to average daily power generation\n",
    "    #df = df.resample('1D', how='mean')\n",
    "    \n",
    "    # Append to main DataFrame\n",
    "    dfWind = pd.concat([dfWind, df])\n",
    "    \n",
    "dfWind.head()"
   ]
  },
  {
   "cell_type": "markdown",
   "metadata": {},
   "source": [
    "## Wind Generation 2012-2015"
   ]
  },
  {
   "cell_type": "code",
   "execution_count": 6,
   "metadata": {
    "collapsed": false
   },
   "outputs": [
    {
     "name": "stderr",
     "output_type": "stream",
     "text": [
      "Skipping line 8769: expected 3 fields, saw 10\n",
      "\n",
      "Skipping line 8769: expected 3 fields, saw 10\n",
      "\n",
      "Skipping line 7785: expected 3 fields, saw 10\n",
      "\n"
     ]
    },
    {
     "data": {
      "text/html": [
       "<div>\n",
       "<table border=\"1\" class=\"dataframe\">\n",
       "  <thead>\n",
       "    <tr style=\"text-align: right;\">\n",
       "      <th></th>\n",
       "      <th>windGenerationMWh</th>\n",
       "    </tr>\n",
       "  </thead>\n",
       "  <tbody>\n",
       "    <tr>\n",
       "      <th>2015-01-01</th>\n",
       "      <td>9338.28</td>\n",
       "    </tr>\n",
       "    <tr>\n",
       "      <th>2015-01-01</th>\n",
       "      <td>2790.06</td>\n",
       "    </tr>\n",
       "    <tr>\n",
       "      <th>2015-01-01</th>\n",
       "      <td>2926.75</td>\n",
       "    </tr>\n",
       "    <tr>\n",
       "      <th>2015-01-01</th>\n",
       "      <td>3106.51</td>\n",
       "    </tr>\n",
       "    <tr>\n",
       "      <th>2015-01-01</th>\n",
       "      <td>3475.50</td>\n",
       "    </tr>\n",
       "  </tbody>\n",
       "</table>\n",
       "</div>"
      ],
      "text/plain": [
       "            windGenerationMWh\n",
       "2015-01-01            9338.28\n",
       "2015-01-01            2790.06\n",
       "2015-01-01            2926.75\n",
       "2015-01-01            3106.51\n",
       "2015-01-01            3475.50"
      ]
     },
     "execution_count": 6,
     "metadata": {},
     "output_type": "execute_result"
    }
   ],
   "source": [
    "for filePath in filePaths2:\n",
    "    # Read CSV as time series\n",
    "    df = pd.read_csv(filePath, skiprows=7, error_bad_lines=False)\n",
    "    df.columns = ['date', 'Hour Ending', 'windGenerationMWh']\n",
    "    df = df.drop('Hour Ending', axis=1)\n",
    "    df = df.set_index('date')\n",
    "    df.index = pd.to_datetime(df.index)\n",
    "    df = df.sort_index()\n",
    "\n",
    "    # Resample to average daily power generation\n",
    "    #df = df.resample('1D', how='mean')\n",
    "    \n",
    "#     Append to main DataFrame\n",
    "    dfWind = pd.concat([dfWind, df])\n",
    "    \n",
    "df.head()"
   ]
  },
  {
   "cell_type": "markdown",
   "metadata": {},
   "source": [
    "## Write to CSV"
   ]
  },
  {
   "cell_type": "code",
   "execution_count": 7,
   "metadata": {
    "collapsed": false
   },
   "outputs": [],
   "source": [
    "dfWind.to_csv('../data/MISO_wind_hourly.csv')"
   ]
  },
  {
   "cell_type": "code",
   "execution_count": null,
   "metadata": {
    "collapsed": true
   },
   "outputs": [],
   "source": []
  }
 ],
 "metadata": {
  "kernelspec": {
   "display_name": "Python 2",
   "language": "python",
   "name": "python2"
  },
  "language_info": {
   "codemirror_mode": {
    "name": "ipython",
    "version": 2
   },
   "file_extension": ".py",
   "mimetype": "text/x-python",
   "name": "python",
   "nbconvert_exporter": "python",
   "pygments_lexer": "ipython2",
   "version": "2.7.10"
  }
 },
 "nbformat": 4,
 "nbformat_minor": 0
}
