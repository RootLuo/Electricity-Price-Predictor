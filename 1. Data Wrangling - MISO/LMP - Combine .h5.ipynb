{
 "cells": [
  {
   "cell_type": "code",
   "execution_count": 1,
   "metadata": {
    "collapsed": true
   },
   "outputs": [],
   "source": [
    "%matplotlib inline\n",
    "\n",
    "import numpy as np\n",
    "import pandas as pd"
   ]
  },
  {
   "cell_type": "markdown",
   "metadata": {},
   "source": [
    "## Load both DataFrames"
   ]
  },
  {
   "cell_type": "code",
   "execution_count": 11,
   "metadata": {
    "collapsed": false
   },
   "outputs": [
    {
     "name": "stdout",
     "output_type": "stream",
     "text": [
      "CPU times: user 16.4 s, sys: 7.03 s, total: 23.5 s\n",
      "Wall time: 27.7 s\n"
     ]
    }
   ],
   "source": [
    "%%time\n",
    "\n",
    "# Load from HDFStore\n",
    "df1 = pd.read_hdf('../data/LMP-raw-1.h5')\n",
    "df2 = pd.read_hdf('../data/LMP-raw-2.h5')"
   ]
  },
  {
   "cell_type": "code",
   "execution_count": 19,
   "metadata": {
    "collapsed": false
   },
   "outputs": [
    {
     "name": "stdout",
     "output_type": "stream",
     "text": [
      "Type         14289541\n",
      "meanPrice    14289541\n",
      "dtype: int64\n",
      "\n",
      "Type         6521934\n",
      "meanPrice    6521934\n",
      "dtype: int64\n"
     ]
    }
   ],
   "source": [
    "print df1.count()\n",
    "print\n",
    "print df2.count()"
   ]
  },
  {
   "cell_type": "markdown",
   "metadata": {},
   "source": [
    "## Combine into one"
   ]
  },
  {
   "cell_type": "code",
   "execution_count": 22,
   "metadata": {
    "collapsed": false
   },
   "outputs": [
    {
     "name": "stdout",
     "output_type": "stream",
     "text": [
      "Type         20811475\n",
      "meanPrice    20811475\n",
      "dtype: int64\n"
     ]
    },
    {
     "data": {
      "text/html": [
       "<div>\n",
       "<table border=\"1\" class=\"dataframe\">\n",
       "  <thead>\n",
       "    <tr style=\"text-align: right;\">\n",
       "      <th></th>\n",
       "      <th></th>\n",
       "      <th>Type</th>\n",
       "      <th>meanPrice</th>\n",
       "    </tr>\n",
       "    <tr>\n",
       "      <th>date</th>\n",
       "      <th>Node</th>\n",
       "      <th></th>\n",
       "      <th></th>\n",
       "    </tr>\n",
       "  </thead>\n",
       "  <tbody>\n",
       "    <tr>\n",
       "      <th rowspan=\"5\" valign=\"top\">20050401</th>\n",
       "      <th>AEBN</th>\n",
       "      <td>Interface</td>\n",
       "      <td>33.176250</td>\n",
       "    </tr>\n",
       "    <tr>\n",
       "      <th>AEC</th>\n",
       "      <td>Interface</td>\n",
       "      <td>32.920000</td>\n",
       "    </tr>\n",
       "    <tr>\n",
       "      <th>AECI</th>\n",
       "      <td>Interface</td>\n",
       "      <td>32.191667</td>\n",
       "    </tr>\n",
       "    <tr>\n",
       "      <th>AEP</th>\n",
       "      <td>Interface</td>\n",
       "      <td>33.130417</td>\n",
       "    </tr>\n",
       "    <tr>\n",
       "      <th>ALTE.ALTE</th>\n",
       "      <td>Loadzone</td>\n",
       "      <td>34.415000</td>\n",
       "    </tr>\n",
       "  </tbody>\n",
       "</table>\n",
       "</div>"
      ],
      "text/plain": [
       "                                                                     Type  \\\n",
       "date     Node                                                               \n",
       "20050401 AEBN                            Interface                          \n",
       "         AEC                             Interface                          \n",
       "         AECI                            Interface                          \n",
       "         AEP                             Interface                          \n",
       "         ALTE.ALTE                       Loadzone                           \n",
       "\n",
       "                                         meanPrice  \n",
       "date     Node                                       \n",
       "20050401 AEBN                            33.176250  \n",
       "         AEC                             32.920000  \n",
       "         AECI                            32.191667  \n",
       "         AEP                             33.130417  \n",
       "         ALTE.ALTE                       34.415000  "
      ]
     },
     "execution_count": 22,
     "metadata": {},
     "output_type": "execute_result"
    }
   ],
   "source": [
    "df = pd.concat([df1,df2])\n",
    "print df.count()\n",
    "df.head()"
   ]
  },
  {
   "cell_type": "markdown",
   "metadata": {},
   "source": [
    "## Write to disk"
   ]
  },
  {
   "cell_type": "code",
   "execution_count": 23,
   "metadata": {
    "collapsed": false
   },
   "outputs": [
    {
     "name": "stdout",
     "output_type": "stream",
     "text": [
      "CPU times: user 1min 31s, sys: 8.49 s, total: 1min 40s\n",
      "Wall time: 1min 49s\n"
     ]
    }
   ],
   "source": [
    "%%time\n",
    "\n",
    "df.to_hdf('../data/LMP-raw.h5', 'lmp', format='table')"
   ]
  },
  {
   "cell_type": "code",
   "execution_count": null,
   "metadata": {
    "collapsed": true
   },
   "outputs": [],
   "source": []
  }
 ],
 "metadata": {
  "kernelspec": {
   "display_name": "Python 2",
   "language": "python",
   "name": "python2"
  },
  "language_info": {
   "codemirror_mode": {
    "name": "ipython",
    "version": 2
   },
   "file_extension": ".py",
   "mimetype": "text/x-python",
   "name": "python",
   "nbconvert_exporter": "python",
   "pygments_lexer": "ipython2",
   "version": "2.7.10"
  }
 },
 "nbformat": 4,
 "nbformat_minor": 0
}
