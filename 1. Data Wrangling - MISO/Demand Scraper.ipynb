{
 "cells": [
  {
   "cell_type": "code",
   "execution_count": 5,
   "metadata": {
    "collapsed": true
   },
   "outputs": [],
   "source": [
    "import datetime\n",
    "import urllib\n",
    "\n",
    "from urlparse import urlparse\n",
    "from threading import Thread\n",
    "import httplib, sys\n",
    "from Queue import Queue"
   ]
  },
  {
   "cell_type": "markdown",
   "metadata": {},
   "source": [
    "## Generate list of XLS URLs\n",
    "https://www.misoenergy.org/RTDisplays/MKTRPT/AllReportsList.html?rptName=Daily%20Regional%20Forecast%20and%20Actual%20Load%20(xls)# \n",
    "\n",
    "Website loads the list of .xls files using javascript, so `urllib2` won't see them. Rather than using a headless webkit browser, generating the URLs will be easier since the URL signature is fixed for the download links of all .csv files."
   ]
  },
  {
   "cell_type": "code",
   "execution_count": 6,
   "metadata": {
    "collapsed": false
   },
   "outputs": [],
   "source": [
    "# Generate date range that matches date signature in URL of .xls files\n",
    "endDate = datetime.datetime.strptime('20130201', '%Y%m%d')\n",
    "startDate = datetime.datetime.strptime('20130101', '%Y%m%d')\n",
    "\n",
    "dayDelta = (endDate-startDate).days\n",
    "dateList = [ startDate + datetime.timedelta(days=n) for n in range(0, dayDelta) ]\n",
    "dateList = [datetime.datetime.strftime(d, '%Y%m%d') for d in dateList]"
   ]
  },
  {
   "cell_type": "code",
   "execution_count": 7,
   "metadata": {
    "collapsed": false
   },
   "outputs": [],
   "source": [
    "# Generate URL list (for checking, will not be used directly)\n",
    "urlList = ['https://www.misoenergy.org/Library/Repository/Market%20Reports/' + d + '_rf_al.xls' for d in dateList]"
   ]
  },
  {
   "cell_type": "markdown",
   "metadata": {},
   "source": [
    "## Download XLS files from MISO\n",
    "Download files concurrently to increase download throughput"
   ]
  },
  {
   "cell_type": "code",
   "execution_count": 10,
   "metadata": {
    "collapsed": true
   },
   "outputs": [],
   "source": [
    "concurrent = 10\n",
    "\n",
    "def doWork():\n",
    "    while True:\n",
    "        d = q.get()\n",
    "        url = 'https://www.misoenergy.org/Library/Repository/Market%20Reports/' + d + '_rf_al.xls'\n",
    "        csvFile = urllib.URLopener()\n",
    "        csvFile.retrieve(url, '../miso/' + d + '_rf_al.xls')"
   ]
  },
  {
   "cell_type": "code",
   "execution_count": null,
   "metadata": {
    "collapsed": false
   },
   "outputs": [],
   "source": [
    "%%time\n",
    "\n",
    "q = Queue(concurrent * 2)\n",
    "\n",
    "for i in range(concurrent):\n",
    "    t = Thread(target=doWork)\n",
    "    t.daemon = True\n",
    "    t.start()\n",
    "    \n",
    "try:\n",
    "    for date in dateList:\n",
    "        q.put(date)\n",
    "    q.join()\n",
    "except KeyboardInterrupt:\n",
    "    sys.exit(1)"
   ]
  },
  {
   "cell_type": "code",
   "execution_count": null,
   "metadata": {
    "collapsed": true
   },
   "outputs": [],
   "source": []
  }
 ],
 "metadata": {
  "kernelspec": {
   "display_name": "Python 2",
   "language": "python",
   "name": "python2"
  },
  "language_info": {
   "codemirror_mode": {
    "name": "ipython",
    "version": 2
   },
   "file_extension": ".py",
   "mimetype": "text/x-python",
   "name": "python",
   "nbconvert_exporter": "python",
   "pygments_lexer": "ipython2",
   "version": "2.7.10"
  }
 },
 "nbformat": 4,
 "nbformat_minor": 0
}
