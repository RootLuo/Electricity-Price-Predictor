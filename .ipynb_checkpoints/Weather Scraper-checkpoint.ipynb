{
 "cells": [
  {
   "cell_type": "code",
   "execution_count": 28,
   "metadata": {
    "collapsed": true
   },
   "outputs": [],
   "source": [
    "import time\n",
    "import requests\n",
    "import numpy as np\n",
    "import pandas as pd"
   ]
  },
  {
   "cell_type": "markdown",
   "metadata": {},
   "source": [
    "## Scrape weather data\n",
    "\n",
    "**MISO States: **\n",
    "- Arkansas\n",
    "- Illinois\n",
    "- Indiana\n",
    "- Iowa\n",
    "- Kentucky\n",
    "- Louisiana\n",
    "- Michigan\n",
    "- Minnesota [KMSP]\n",
    "- Missippi\n",
    "- Missouro\n",
    "- Montana\n",
    "- North Dakota\n",
    "- South Dakota\n",
    "- Texas\n",
    "- Wisconsin\n",
    "\n",
    "Scraping major airports in each state under MISO."
   ]
  },
  {
   "cell_type": "code",
   "execution_count": 30,
   "metadata": {
    "collapsed": false
   },
   "outputs": [
    {
     "name": "stdout",
     "output_type": "stream",
     "text": [
      "KMSP 2000\n",
      "KMSP 2001\n",
      "KMSP 2002\n",
      "KMSP 2003\n",
      "KMSP 2004\n",
      "KMSP 2005\n",
      "KMSP 2006\n",
      "KMSP 2007\n",
      "KMSP 2008\n",
      "KMSP 2009\n",
      "KMSP 2010\n",
      "KMSP 2011\n",
      "KMSP 2012\n",
      "KMSP 2013\n",
      "KMSP 2014\n"
     ]
    }
   ],
   "source": [
    "years = [y for y in range(2000, 2015)]\n",
    "airports = ['KMSP']\n",
    "\n",
    "for airport in airports: \n",
    "    # Each location gets its own DataFrame (and .csv)\n",
    "    df = pd.DataFrame()   \n",
    "    \n",
    "    # Scrape through the years\n",
    "    for year in years:\n",
    "        url = 'http://www.wunderground.com/history/airport/%s/%i/1/1/CustomHistory.html?dayend=31&monthend=12&yearend=%i&req_city=&req_state=&req_statename=&reqdb.zip=&reqdb.magic=&reqdb.wmo=&format=1' % (airport, year, year)\n",
    "        dfNew = pd.read_csv(url)\n",
    "        dfNew['location'] = airport\n",
    "        df = pd.concat([df, dfNew])\n",
    "\n",
    "        print airport, year\n",
    "        time.sleep(5)\n",
    "    \n",
    "    # Post-Scrape DataFrame Processing\n",
    "    df = df.set_index('CST').sort_index()\n",
    "    \n",
    "    # Write to .CSV\n",
    "    csvPath = './data/weather-' + airport + '.csv'\n",
    "    df.to_csv(csvPath)"
   ]
  },
  {
   "cell_type": "code",
   "execution_count": null,
   "metadata": {
    "collapsed": true
   },
   "outputs": [],
   "source": []
  }
 ],
 "metadata": {
  "kernelspec": {
   "display_name": "Python 2",
   "language": "python",
   "name": "python2"
  },
  "language_info": {
   "codemirror_mode": {
    "name": "ipython",
    "version": 2
   },
   "file_extension": ".py",
   "mimetype": "text/x-python",
   "name": "python",
   "nbconvert_exporter": "python",
   "pygments_lexer": "ipython2",
   "version": "2.7.10"
  }
 },
 "nbformat": 4,
 "nbformat_minor": 0
}
